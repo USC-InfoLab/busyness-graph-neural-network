{
 "cells": [
  {
   "cell_type": "code",
   "execution_count": 34,
   "metadata": {},
   "outputs": [],
   "source": [
    "import pandas as pd\n",
    "import numpy as np\n",
    "import time, os, ast\n",
    "\n",
    "pd.options.display.max_columns = 50"
   ]
  },
  {
   "cell_type": "code",
   "execution_count": 40,
   "metadata": {},
   "outputs": [],
   "source": [
    "TOTAL_DAYS = 400\n",
    "START_POI = 0\n",
    "END_POI = 400"
   ]
  },
  {
   "cell_type": "code",
   "execution_count": 47,
   "metadata": {},
   "outputs": [],
   "source": [
    "class bounding_box:\n",
    "    def __init__(self, _lat_min, _lon_min, _lat_max, _lon_max):\n",
    "        self.lat_min = _lat_min\n",
    "        self.lon_min = _lon_min\n",
    "        self.lat_max = _lat_max\n",
    "        self.lon_max = _lon_max\n",
    "\n",
    "\n",
    "class stat_collector:\n",
    "    def __init__(self):\n",
    "        self.parquet_file_count=0\n",
    "        self.data_record_count = 0\n",
    "        self.memory_usage_in_GB = 0\t\t#gives an estimate of the total RAM usage if all files were read into memory at the same time.\n",
    "        self.unique_device_count = 0\n",
    "        self.avg_pos_acc = 0\n",
    "        self.starting_time = time.process_time()\n",
    "        self.elapsed_time = time.process_time()\n",
    "        self.unique_geohash_count = 0\n",
    "\n",
    "def get_merged_df(csv_path, start_row, end_row, total_days):\n",
    "\n",
    "    #start = time.time()\n",
    "    merge_df = pd.read_csv(csv_path)\n",
    "\n",
    "    merge_df = merge_df.sort_values(by=['raw_visit_counts'], ascending=False)\n",
    "    merge_df = merge_df.iloc[start_row:end_row]\n",
    "    #print(merge_df)\n",
    "    merge_df[\"visits_by_each_hour\"] = merge_df[\"visits_by_each_hour\"].apply(lambda x: ast.literal_eval(x))\n",
    "    merge_df[\"visits_by_day\"] = merge_df[\"visits_by_day\"].apply(lambda x: ast.literal_eval(x))\n",
    "    merge_df[\"visits_by_each_hour\"] = merge_df[\"visits_by_each_hour\"].apply(lambda x: x[:total_days*24])\n",
    "    merge_df[\"visits_by_day\"] = merge_df[\"visits_by_day\"].apply(lambda x: x[:total_days])\n",
    "    return merge_df\n",
    "\n",
    "\n",
    "def load_poi_db(city):\n",
    "    poi_folder = \"/storage/dataset/poi_haowen/CoreRecords-CORE_POI-2019_03-2020-03-25/\"\n",
    "    poi_columns = [\"safegraph_place_id\", \"parent_safegraph_place_id\", \"location_name\", \"safegraph_brand_ids\", \"brands\",\n",
    "                   \"top_category\", \"sub_category\", \"naics_code\", \"latitude\", \"longitude\", \"street_address\", \"city\",\n",
    "                   \"region\", \"postal_code\", \"iso_country_code\", \"phone_number\", \"open_hours\", \"category_tags\"]\n",
    "    files = os.listdir(poi_folder)\n",
    "\n",
    "\n",
    "    poi_s = stat_collector()\n",
    "    poi_db = pd.DataFrame(columns=poi_columns)\n",
    "    for f in files:\n",
    "        if f[-3:] == 'csv' and 'brand' not in f:\n",
    "            print(f)\n",
    "            df = pd.read_csv(poi_folder + f)\n",
    "            df = df.loc[df['city']==city]\n",
    "            poi_db = poi_db.append(df, ignore_index=True, sort=False)\n",
    "            poi_s.memory_usage_in_GB += df.memory_usage(deep=True).sum() / 1000000000\n",
    "            poi_s.data_record_count += df.shape[0]\n",
    "            poi_s.parquet_file_count += 1\n",
    "    return poi_db, poi_s\n",
    "\n",
    "\n",
    "def get_full_df(csv_path_weekly, poi_info_csv_path, start_row, end_row, total_days, city):\n",
    "    weekly_patterns = get_merged_df(csv_path_weekly, start_row, end_row, total_days)\n",
    "    poi_info = pd.read_csv(poi_info_csv_path)\n",
    "    poi_df = pd.merge(weekly_patterns, poi_info, on='safegraph_place_id', how='inner')\n",
    "    poi_db, poi_s = load_poi_db(city=city)\n",
    "    poi_df = poi_df.merge(poi_db, how='left', on='safegraph_place_id', suffixes=('', '_y'))\n",
    "    poi_df.drop(poi_df.filter(regex='_y$').columns, axis=1, inplace=True)\n",
    "    del poi_db\n",
    "    return poi_df"
   ]
  },
  {
   "cell_type": "markdown",
   "metadata": {},
   "source": [
    "### Houston Dataset Stats"
   ]
  },
  {
   "cell_type": "code",
   "execution_count": 49,
   "metadata": {},
   "outputs": [
    {
     "name": "stdout",
     "output_type": "stream",
     "text": [
      "core_poi-part2.csv\n",
      "core_poi-part5.csv\n",
      "core_poi-part4.csv\n",
      "core_poi-part3.csv\n",
      "core_poi-part1.csv\n"
     ]
    }
   ],
   "source": [
    "DATASET = 'Houston'\n",
    "csv_path = f'/home/users/arash/datasets/safegraph/weekly_patterns_2019-01-07_2020-06-08_{DATASET}.csv'\n",
    "poi_info_csv_path = '/home/users/arash/datasets/safegraph/core_poi_info_2019-01-07_2020-06-08.csv'\n",
    "\n",
    "houston_df = get_full_df(csv_path_weekly=csv_path, \n",
    "                         poi_info_csv_path=poi_info_csv_path, \n",
    "                         start_row=START_POI, end_row=END_POI, \n",
    "                         total_days=TOTAL_DAYS,\n",
    "                         city=DATASET)"
   ]
  },
  {
   "cell_type": "code",
   "execution_count": 50,
   "metadata": {},
   "outputs": [
    {
     "data": {
      "text/html": [
       "<div>\n",
       "<style scoped>\n",
       "    .dataframe tbody tr th:only-of-type {\n",
       "        vertical-align: middle;\n",
       "    }\n",
       "\n",
       "    .dataframe tbody tr th {\n",
       "        vertical-align: top;\n",
       "    }\n",
       "\n",
       "    .dataframe thead th {\n",
       "        text-align: right;\n",
       "    }\n",
       "</style>\n",
       "<table border=\"1\" class=\"dataframe\">\n",
       "  <thead>\n",
       "    <tr style=\"text-align: right;\">\n",
       "      <th></th>\n",
       "      <th>safegraph_place_id</th>\n",
       "      <th>visits_by_day</th>\n",
       "      <th>visits_by_each_hour</th>\n",
       "      <th>raw_visit_counts</th>\n",
       "      <th>location_name</th>\n",
       "      <th>street_address</th>\n",
       "      <th>city</th>\n",
       "      <th>region</th>\n",
       "      <th>postal_code</th>\n",
       "      <th>iso_country_code</th>\n",
       "      <th>safegraph_brand_ids</th>\n",
       "      <th>brands</th>\n",
       "      <th>parent_safegraph_place_id</th>\n",
       "      <th>top_category</th>\n",
       "      <th>sub_category</th>\n",
       "      <th>naics_code</th>\n",
       "      <th>latitude</th>\n",
       "      <th>longitude</th>\n",
       "      <th>phone_number</th>\n",
       "      <th>open_hours</th>\n",
       "      <th>category_tags</th>\n",
       "    </tr>\n",
       "  </thead>\n",
       "  <tbody>\n",
       "    <tr>\n",
       "      <th>0</th>\n",
       "      <td>sg:4cc165ff43ec4ce29e9dbe0732267ab1</td>\n",
       "      <td>[6140, 6399, 6752, 7324, 7255, 5874, 7496, 700...</td>\n",
       "      <td>[83, 49, 41, 60, 187, 301, 161, 151, 257, 112,...</td>\n",
       "      <td>3574654</td>\n",
       "      <td>George Bush Intercontinental Airport</td>\n",
       "      <td>2800 N Terminal Rd</td>\n",
       "      <td>Houston</td>\n",
       "      <td>TX</td>\n",
       "      <td>77032</td>\n",
       "      <td>US</td>\n",
       "      <td>NaN</td>\n",
       "      <td>NaN</td>\n",
       "      <td>NaN</td>\n",
       "      <td>Support Activities for Air Transportation</td>\n",
       "      <td>Other Airport Operations</td>\n",
       "      <td>488119.0</td>\n",
       "      <td>29.981382</td>\n",
       "      <td>-95.322839</td>\n",
       "      <td>NaN</td>\n",
       "      <td>NaN</td>\n",
       "      <td>NaN</td>\n",
       "    </tr>\n",
       "    <tr>\n",
       "      <th>1</th>\n",
       "      <td>sg:e8af4e248bbf41549aaec725d038ee42</td>\n",
       "      <td>[2553, 2568, 2729, 2939, 2940, 2541, 3215, 290...</td>\n",
       "      <td>[21, 23, 21, 14, 52, 108, 53, 56, 130, 38, 119...</td>\n",
       "      <td>1427339</td>\n",
       "      <td>American Express Centurion Lounge</td>\n",
       "      <td>2800 N Terminal Rd Terminal D</td>\n",
       "      <td>Houston</td>\n",
       "      <td>TX</td>\n",
       "      <td>77032</td>\n",
       "      <td>US</td>\n",
       "      <td>NaN</td>\n",
       "      <td>NaN</td>\n",
       "      <td>sg:f4a955def8ca49fd87153af82a237245</td>\n",
       "      <td>Gasoline Stations</td>\n",
       "      <td>Gasoline Stations with Convenience Stores</td>\n",
       "      <td>447110.0</td>\n",
       "      <td>29.987829</td>\n",
       "      <td>-95.334916</td>\n",
       "      <td>NaN</td>\n",
       "      <td>{ \"Mon\": [[\"5:30\", \"21:00\"]], \"Tue\": [[\"5:30\",...</td>\n",
       "      <td>NaN</td>\n",
       "    </tr>\n",
       "  </tbody>\n",
       "</table>\n",
       "</div>"
      ],
      "text/plain": [
       "                    safegraph_place_id  \\\n",
       "0  sg:4cc165ff43ec4ce29e9dbe0732267ab1   \n",
       "1  sg:e8af4e248bbf41549aaec725d038ee42   \n",
       "\n",
       "                                       visits_by_day  \\\n",
       "0  [6140, 6399, 6752, 7324, 7255, 5874, 7496, 700...   \n",
       "1  [2553, 2568, 2729, 2939, 2940, 2541, 3215, 290...   \n",
       "\n",
       "                                 visits_by_each_hour  raw_visit_counts  \\\n",
       "0  [83, 49, 41, 60, 187, 301, 161, 151, 257, 112,...           3574654   \n",
       "1  [21, 23, 21, 14, 52, 108, 53, 56, 130, 38, 119...           1427339   \n",
       "\n",
       "                          location_name                 street_address  \\\n",
       "0  George Bush Intercontinental Airport             2800 N Terminal Rd   \n",
       "1     American Express Centurion Lounge  2800 N Terminal Rd Terminal D   \n",
       "\n",
       "      city region  postal_code iso_country_code safegraph_brand_ids brands  \\\n",
       "0  Houston     TX        77032               US                 NaN    NaN   \n",
       "1  Houston     TX        77032               US                 NaN    NaN   \n",
       "\n",
       "             parent_safegraph_place_id  \\\n",
       "0                                  NaN   \n",
       "1  sg:f4a955def8ca49fd87153af82a237245   \n",
       "\n",
       "                                top_category  \\\n",
       "0  Support Activities for Air Transportation   \n",
       "1                          Gasoline Stations   \n",
       "\n",
       "                                sub_category  naics_code   latitude  \\\n",
       "0                   Other Airport Operations    488119.0  29.981382   \n",
       "1  Gasoline Stations with Convenience Stores    447110.0  29.987829   \n",
       "\n",
       "   longitude  phone_number                                         open_hours  \\\n",
       "0 -95.322839           NaN                                                NaN   \n",
       "1 -95.334916           NaN  { \"Mon\": [[\"5:30\", \"21:00\"]], \"Tue\": [[\"5:30\",...   \n",
       "\n",
       "  category_tags  \n",
       "0           NaN  \n",
       "1           NaN  "
      ]
     },
     "execution_count": 50,
     "metadata": {},
     "output_type": "execute_result"
    }
   ],
   "source": [
    "houston_df.head(2)"
   ]
  },
  {
   "cell_type": "code",
   "execution_count": 51,
   "metadata": {},
   "outputs": [
    {
     "name": "stdout",
     "output_type": "stream",
     "text": [
      "Number of POI categories:\n"
     ]
    },
    {
     "data": {
      "text/plain": [
       "43"
      ]
     },
     "execution_count": 51,
     "metadata": {},
     "output_type": "execute_result"
    }
   ],
   "source": [
    "print('Number of POI categories:')\n",
    "len(houston_df['top_category'].unique())"
   ]
  },
  {
   "cell_type": "code",
   "execution_count": 52,
   "metadata": {},
   "outputs": [
    {
     "name": "stdout",
     "output_type": "stream",
     "text": [
      "Median number of hourly POI visits:\n"
     ]
    },
    {
     "data": {
      "text/plain": [
       "11.40153203125"
      ]
     },
     "execution_count": 52,
     "metadata": {},
     "output_type": "execute_result"
    }
   ],
   "source": [
    "print('Median number of hourly POI visits:')\n",
    "houston_df['visits_by_each_hour'].apply(lambda x: np.array(x).mean()).mean()"
   ]
  },
  {
   "cell_type": "markdown",
   "metadata": {},
   "source": [
    "### Chicago Dataset Stats"
   ]
  },
  {
   "cell_type": "code",
   "execution_count": 53,
   "metadata": {},
   "outputs": [
    {
     "name": "stdout",
     "output_type": "stream",
     "text": [
      "core_poi-part2.csv\n",
      "core_poi-part5.csv\n",
      "core_poi-part4.csv\n",
      "core_poi-part3.csv\n",
      "core_poi-part1.csv\n"
     ]
    },
    {
     "data": {
      "text/html": [
       "<div>\n",
       "<style scoped>\n",
       "    .dataframe tbody tr th:only-of-type {\n",
       "        vertical-align: middle;\n",
       "    }\n",
       "\n",
       "    .dataframe tbody tr th {\n",
       "        vertical-align: top;\n",
       "    }\n",
       "\n",
       "    .dataframe thead th {\n",
       "        text-align: right;\n",
       "    }\n",
       "</style>\n",
       "<table border=\"1\" class=\"dataframe\">\n",
       "  <thead>\n",
       "    <tr style=\"text-align: right;\">\n",
       "      <th></th>\n",
       "      <th>safegraph_place_id</th>\n",
       "      <th>visits_by_day</th>\n",
       "      <th>visits_by_each_hour</th>\n",
       "      <th>raw_visit_counts</th>\n",
       "      <th>location_name</th>\n",
       "      <th>street_address</th>\n",
       "      <th>city</th>\n",
       "      <th>region</th>\n",
       "      <th>postal_code</th>\n",
       "      <th>iso_country_code</th>\n",
       "      <th>safegraph_brand_ids</th>\n",
       "      <th>brands</th>\n",
       "      <th>parent_safegraph_place_id</th>\n",
       "      <th>top_category</th>\n",
       "      <th>sub_category</th>\n",
       "      <th>naics_code</th>\n",
       "      <th>latitude</th>\n",
       "      <th>longitude</th>\n",
       "      <th>phone_number</th>\n",
       "      <th>open_hours</th>\n",
       "      <th>category_tags</th>\n",
       "    </tr>\n",
       "  </thead>\n",
       "  <tbody>\n",
       "    <tr>\n",
       "      <th>0</th>\n",
       "      <td>sg:87441fbb4b6a4d7aaec3ed7eb83a72de</td>\n",
       "      <td>[1693, 1837, 1852, 2022, 2066, 1753, 2195, 202...</td>\n",
       "      <td>[23, 9, 12, 16, 53, 81, 68, 51, 73, 70, 64, 52...</td>\n",
       "      <td>1103171</td>\n",
       "      <td>Chicago O'Hare International Airport Terminal 1</td>\n",
       "      <td>10000 W Ohare Ave</td>\n",
       "      <td>Chicago</td>\n",
       "      <td>IL</td>\n",
       "      <td>60666</td>\n",
       "      <td>US</td>\n",
       "      <td>NaN</td>\n",
       "      <td>NaN</td>\n",
       "      <td>NaN</td>\n",
       "      <td>Support Activities for Air Transportation</td>\n",
       "      <td>Other Airport Operations</td>\n",
       "      <td>488119.0</td>\n",
       "      <td>41.979266</td>\n",
       "      <td>-87.909937</td>\n",
       "      <td>NaN</td>\n",
       "      <td>NaN</td>\n",
       "      <td>NaN</td>\n",
       "    </tr>\n",
       "    <tr>\n",
       "      <th>1</th>\n",
       "      <td>sg:dc60abeb131940e79e8dbf7895dc2770</td>\n",
       "      <td>[1171, 1181, 1315, 1294, 1286, 1067, 1604, 130...</td>\n",
       "      <td>[21, 5, 4, 10, 32, 60, 19, 42, 22, 25, 29, 45,...</td>\n",
       "      <td>771330</td>\n",
       "      <td>Big City Chicken</td>\n",
       "      <td>5700 S Cicero Ave Concourse B Gate B7 Midway A...</td>\n",
       "      <td>Chicago</td>\n",
       "      <td>IL</td>\n",
       "      <td>60629</td>\n",
       "      <td>US</td>\n",
       "      <td>NaN</td>\n",
       "      <td>NaN</td>\n",
       "      <td>NaN</td>\n",
       "      <td>NaN</td>\n",
       "      <td>NaN</td>\n",
       "      <td>NaN</td>\n",
       "      <td>NaN</td>\n",
       "      <td>NaN</td>\n",
       "      <td>NaN</td>\n",
       "      <td>NaN</td>\n",
       "      <td>NaN</td>\n",
       "    </tr>\n",
       "  </tbody>\n",
       "</table>\n",
       "</div>"
      ],
      "text/plain": [
       "                    safegraph_place_id  \\\n",
       "0  sg:87441fbb4b6a4d7aaec3ed7eb83a72de   \n",
       "1  sg:dc60abeb131940e79e8dbf7895dc2770   \n",
       "\n",
       "                                       visits_by_day  \\\n",
       "0  [1693, 1837, 1852, 2022, 2066, 1753, 2195, 202...   \n",
       "1  [1171, 1181, 1315, 1294, 1286, 1067, 1604, 130...   \n",
       "\n",
       "                                 visits_by_each_hour  raw_visit_counts  \\\n",
       "0  [23, 9, 12, 16, 53, 81, 68, 51, 73, 70, 64, 52...           1103171   \n",
       "1  [21, 5, 4, 10, 32, 60, 19, 42, 22, 25, 29, 45,...            771330   \n",
       "\n",
       "                                     location_name  \\\n",
       "0  Chicago O'Hare International Airport Terminal 1   \n",
       "1                                 Big City Chicken   \n",
       "\n",
       "                                      street_address     city region  \\\n",
       "0                                  10000 W Ohare Ave  Chicago     IL   \n",
       "1  5700 S Cicero Ave Concourse B Gate B7 Midway A...  Chicago     IL   \n",
       "\n",
       "   postal_code iso_country_code safegraph_brand_ids brands  \\\n",
       "0        60666               US                 NaN    NaN   \n",
       "1        60629               US                 NaN    NaN   \n",
       "\n",
       "  parent_safegraph_place_id                               top_category  \\\n",
       "0                       NaN  Support Activities for Air Transportation   \n",
       "1                       NaN                                        NaN   \n",
       "\n",
       "               sub_category  naics_code   latitude  longitude  phone_number  \\\n",
       "0  Other Airport Operations    488119.0  41.979266 -87.909937           NaN   \n",
       "1                       NaN         NaN        NaN        NaN           NaN   \n",
       "\n",
       "  open_hours category_tags  \n",
       "0        NaN           NaN  \n",
       "1        NaN           NaN  "
      ]
     },
     "execution_count": 53,
     "metadata": {},
     "output_type": "execute_result"
    }
   ],
   "source": [
    "DATASET = 'Chicago'\n",
    "csv_path = f'/home/users/arash/datasets/safegraph/weekly_patterns_2019-01-07_2020-06-08_{DATASET}.csv'\n",
    "poi_info_csv_path = '/home/users/arash/datasets/safegraph/core_poi_info_2019-01-07_2020-06-08.csv'\n",
    "\n",
    "chicago_df = get_full_df(csv_path_weekly=csv_path, \n",
    "                         poi_info_csv_path=poi_info_csv_path, \n",
    "                         start_row=START_POI, end_row=END_POI, \n",
    "                         total_days=TOTAL_DAYS,\n",
    "                         city=DATASET)\n",
    "\n",
    "chicago_df.head(2)"
   ]
  },
  {
   "cell_type": "code",
   "execution_count": 62,
   "metadata": {},
   "outputs": [
    {
     "name": "stdout",
     "output_type": "stream",
     "text": [
      "Number of POI categories:\n"
     ]
    },
    {
     "data": {
      "text/plain": [
       "35"
      ]
     },
     "execution_count": 62,
     "metadata": {},
     "output_type": "execute_result"
    }
   ],
   "source": [
    "print('Number of POI categories:')\n",
    "len(chicago_df['top_category'].unique())"
   ]
  },
  {
   "cell_type": "code",
   "execution_count": 63,
   "metadata": {},
   "outputs": [
    {
     "name": "stdout",
     "output_type": "stream",
     "text": [
      "Median number of hourly POI visits:\n"
     ]
    },
    {
     "data": {
      "text/plain": [
       "6.215655208333333"
      ]
     },
     "execution_count": 63,
     "metadata": {},
     "output_type": "execute_result"
    }
   ],
   "source": [
    "print('Median number of hourly POI visits:')\n",
    "chicago_df['visits_by_each_hour'].apply(lambda x: np.array(x).mean()).mean()"
   ]
  },
  {
   "cell_type": "markdown",
   "metadata": {},
   "source": [
    "### Los Angeles Dataset Stats"
   ]
  },
  {
   "cell_type": "code",
   "execution_count": 64,
   "metadata": {},
   "outputs": [
    {
     "name": "stdout",
     "output_type": "stream",
     "text": [
      "core_poi-part2.csv\n",
      "core_poi-part5.csv\n",
      "core_poi-part4.csv\n",
      "core_poi-part3.csv\n",
      "core_poi-part1.csv\n"
     ]
    },
    {
     "data": {
      "text/html": [
       "<div>\n",
       "<style scoped>\n",
       "    .dataframe tbody tr th:only-of-type {\n",
       "        vertical-align: middle;\n",
       "    }\n",
       "\n",
       "    .dataframe tbody tr th {\n",
       "        vertical-align: top;\n",
       "    }\n",
       "\n",
       "    .dataframe thead th {\n",
       "        text-align: right;\n",
       "    }\n",
       "</style>\n",
       "<table border=\"1\" class=\"dataframe\">\n",
       "  <thead>\n",
       "    <tr style=\"text-align: right;\">\n",
       "      <th></th>\n",
       "      <th>safegraph_place_id</th>\n",
       "      <th>visits_by_day</th>\n",
       "      <th>visits_by_each_hour</th>\n",
       "      <th>raw_visit_counts</th>\n",
       "      <th>location_name</th>\n",
       "      <th>street_address</th>\n",
       "      <th>city</th>\n",
       "      <th>region</th>\n",
       "      <th>postal_code</th>\n",
       "      <th>iso_country_code</th>\n",
       "      <th>safegraph_brand_ids</th>\n",
       "      <th>brands</th>\n",
       "      <th>parent_safegraph_place_id</th>\n",
       "      <th>top_category</th>\n",
       "      <th>sub_category</th>\n",
       "      <th>naics_code</th>\n",
       "      <th>latitude</th>\n",
       "      <th>longitude</th>\n",
       "      <th>phone_number</th>\n",
       "      <th>open_hours</th>\n",
       "      <th>category_tags</th>\n",
       "    </tr>\n",
       "  </thead>\n",
       "  <tbody>\n",
       "    <tr>\n",
       "      <th>0</th>\n",
       "      <td>sg:eec9c174dc034b72b18e95737c6a98dc</td>\n",
       "      <td>[2346, 2475, 2491, 2589, 2691, 2513, 2851, 260...</td>\n",
       "      <td>[61, 17, 19, 17, 33, 32, 49, 63, 73, 63, 72, 2...</td>\n",
       "      <td>1231628</td>\n",
       "      <td>Farmer's Market</td>\n",
       "      <td>Lax Terminal 4</td>\n",
       "      <td>Los Angeles</td>\n",
       "      <td>CA</td>\n",
       "      <td>90045</td>\n",
       "      <td>US</td>\n",
       "      <td>NaN</td>\n",
       "      <td>NaN</td>\n",
       "      <td>sg:08dfccb58e4c4478a4578254593913d3</td>\n",
       "      <td>Gasoline Stations</td>\n",
       "      <td>Gasoline Stations with Convenience Stores</td>\n",
       "      <td>447110.0</td>\n",
       "      <td>33.940858</td>\n",
       "      <td>-118.404222</td>\n",
       "      <td>NaN</td>\n",
       "      <td>NaN</td>\n",
       "      <td>NaN</td>\n",
       "    </tr>\n",
       "    <tr>\n",
       "      <th>1</th>\n",
       "      <td>sg:0d9a31b3a55c4df08da3c8ce5a8deb0e</td>\n",
       "      <td>[869, 1047, 1072, 1153, 1112, 937, 1227, 1027,...</td>\n",
       "      <td>[24, 6, 4, 11, 11, 9, 17, 10, 14, 21, 23, 103,...</td>\n",
       "      <td>586540</td>\n",
       "      <td>American Eagle Remote Terminal</td>\n",
       "      <td>World Way</td>\n",
       "      <td>Los Angeles</td>\n",
       "      <td>CA</td>\n",
       "      <td>90045</td>\n",
       "      <td>US</td>\n",
       "      <td>NaN</td>\n",
       "      <td>NaN</td>\n",
       "      <td>sg:08dfccb58e4c4478a4578254593913d3</td>\n",
       "      <td>Traveler Accommodation</td>\n",
       "      <td>Hotels (except Casino Hotels) and Motels</td>\n",
       "      <td>721110.0</td>\n",
       "      <td>33.943828</td>\n",
       "      <td>-118.400097</td>\n",
       "      <td>NaN</td>\n",
       "      <td>NaN</td>\n",
       "      <td>NaN</td>\n",
       "    </tr>\n",
       "  </tbody>\n",
       "</table>\n",
       "</div>"
      ],
      "text/plain": [
       "                    safegraph_place_id  \\\n",
       "0  sg:eec9c174dc034b72b18e95737c6a98dc   \n",
       "1  sg:0d9a31b3a55c4df08da3c8ce5a8deb0e   \n",
       "\n",
       "                                       visits_by_day  \\\n",
       "0  [2346, 2475, 2491, 2589, 2691, 2513, 2851, 260...   \n",
       "1  [869, 1047, 1072, 1153, 1112, 937, 1227, 1027,...   \n",
       "\n",
       "                                 visits_by_each_hour  raw_visit_counts  \\\n",
       "0  [61, 17, 19, 17, 33, 32, 49, 63, 73, 63, 72, 2...           1231628   \n",
       "1  [24, 6, 4, 11, 11, 9, 17, 10, 14, 21, 23, 103,...            586540   \n",
       "\n",
       "                    location_name  street_address         city region  \\\n",
       "0                 Farmer's Market  Lax Terminal 4  Los Angeles     CA   \n",
       "1  American Eagle Remote Terminal       World Way  Los Angeles     CA   \n",
       "\n",
       "   postal_code iso_country_code safegraph_brand_ids brands  \\\n",
       "0        90045               US                 NaN    NaN   \n",
       "1        90045               US                 NaN    NaN   \n",
       "\n",
       "             parent_safegraph_place_id            top_category  \\\n",
       "0  sg:08dfccb58e4c4478a4578254593913d3       Gasoline Stations   \n",
       "1  sg:08dfccb58e4c4478a4578254593913d3  Traveler Accommodation   \n",
       "\n",
       "                                sub_category  naics_code   latitude  \\\n",
       "0  Gasoline Stations with Convenience Stores    447110.0  33.940858   \n",
       "1   Hotels (except Casino Hotels) and Motels    721110.0  33.943828   \n",
       "\n",
       "    longitude  phone_number open_hours category_tags  \n",
       "0 -118.404222           NaN        NaN           NaN  \n",
       "1 -118.400097           NaN        NaN           NaN  "
      ]
     },
     "execution_count": 64,
     "metadata": {},
     "output_type": "execute_result"
    }
   ],
   "source": [
    "DATASET = 'Los Angeles'\n",
    "csv_path = f'/home/users/arash/datasets/safegraph/weekly_patterns_2019-01-07_2020-06-08_{DATASET}.csv'\n",
    "poi_info_csv_path = '/home/users/arash/datasets/safegraph/core_poi_info_2019-01-07_2020-06-08.csv'\n",
    "\n",
    "la_df = get_full_df(csv_path_weekly=csv_path, \n",
    "                         poi_info_csv_path=poi_info_csv_path, \n",
    "                         start_row=START_POI, end_row=END_POI, \n",
    "                         total_days=TOTAL_DAYS,\n",
    "                         city=DATASET)\n",
    "\n",
    "la_df.head(2)"
   ]
  },
  {
   "cell_type": "code",
   "execution_count": 65,
   "metadata": {},
   "outputs": [
    {
     "name": "stdout",
     "output_type": "stream",
     "text": [
      "Number of POI categories:\n"
     ]
    },
    {
     "data": {
      "text/plain": [
       "44"
      ]
     },
     "execution_count": 65,
     "metadata": {},
     "output_type": "execute_result"
    }
   ],
   "source": [
    "print('Number of POI categories:')\n",
    "len(la_df['top_category'].unique())"
   ]
  },
  {
   "cell_type": "code",
   "execution_count": 66,
   "metadata": {},
   "outputs": [
    {
     "name": "stdout",
     "output_type": "stream",
     "text": [
      "Median number of hourly POI visits:\n"
     ]
    },
    {
     "data": {
      "text/plain": [
       "5.769618489583333"
      ]
     },
     "execution_count": 66,
     "metadata": {},
     "output_type": "execute_result"
    }
   ],
   "source": [
    "print('Median number of hourly POI visits:')\n",
    "la_df['visits_by_each_hour'].apply(lambda x: np.array(x).mean()).mean()"
   ]
  },
  {
   "cell_type": "markdown",
   "metadata": {},
   "source": [
    "### New York Dataset Stats"
   ]
  },
  {
   "cell_type": "code",
   "execution_count": 69,
   "metadata": {},
   "outputs": [
    {
     "name": "stdout",
     "output_type": "stream",
     "text": [
      "core_poi-part2.csv\n",
      "core_poi-part5.csv\n",
      "core_poi-part4.csv\n",
      "core_poi-part3.csv\n",
      "core_poi-part1.csv\n"
     ]
    },
    {
     "data": {
      "text/html": [
       "<div>\n",
       "<style scoped>\n",
       "    .dataframe tbody tr th:only-of-type {\n",
       "        vertical-align: middle;\n",
       "    }\n",
       "\n",
       "    .dataframe tbody tr th {\n",
       "        vertical-align: top;\n",
       "    }\n",
       "\n",
       "    .dataframe thead th {\n",
       "        text-align: right;\n",
       "    }\n",
       "</style>\n",
       "<table border=\"1\" class=\"dataframe\">\n",
       "  <thead>\n",
       "    <tr style=\"text-align: right;\">\n",
       "      <th></th>\n",
       "      <th>safegraph_place_id</th>\n",
       "      <th>visits_by_day</th>\n",
       "      <th>visits_by_each_hour</th>\n",
       "      <th>raw_visit_counts</th>\n",
       "      <th>location_name</th>\n",
       "      <th>street_address</th>\n",
       "      <th>city</th>\n",
       "      <th>region</th>\n",
       "      <th>postal_code</th>\n",
       "      <th>iso_country_code</th>\n",
       "      <th>safegraph_brand_ids</th>\n",
       "      <th>brands</th>\n",
       "      <th>parent_safegraph_place_id</th>\n",
       "      <th>top_category</th>\n",
       "      <th>sub_category</th>\n",
       "      <th>naics_code</th>\n",
       "      <th>latitude</th>\n",
       "      <th>longitude</th>\n",
       "      <th>phone_number</th>\n",
       "      <th>open_hours</th>\n",
       "      <th>category_tags</th>\n",
       "    </tr>\n",
       "  </thead>\n",
       "  <tbody>\n",
       "    <tr>\n",
       "      <th>0</th>\n",
       "      <td>sg:50411cf6c22142b6ae91d0eaa2e3190c</td>\n",
       "      <td>[9596, 10273, 10984, 11750, 11310, 10363, 1160...</td>\n",
       "      <td>[244, 120, 143, 180, 283, 569, 533, 281, 183, ...</td>\n",
       "      <td>5130262</td>\n",
       "      <td>John F Kennedy International Airport</td>\n",
       "      <td>John F. Kennedy International Airport</td>\n",
       "      <td>New York</td>\n",
       "      <td>NY</td>\n",
       "      <td>11430</td>\n",
       "      <td>US</td>\n",
       "      <td>NaN</td>\n",
       "      <td>NaN</td>\n",
       "      <td>NaN</td>\n",
       "      <td>Support Activities for Air Transportation</td>\n",
       "      <td>Other Airport Operations</td>\n",
       "      <td>488119.0</td>\n",
       "      <td>40.639210</td>\n",
       "      <td>-73.774480</td>\n",
       "      <td>NaN</td>\n",
       "      <td>NaN</td>\n",
       "      <td>NaN</td>\n",
       "    </tr>\n",
       "    <tr>\n",
       "      <th>1</th>\n",
       "      <td>sg:354dce54a24840899c681d5e62d52899</td>\n",
       "      <td>[1616, 1656, 1708, 1869, 1790, 1818, 1949, 183...</td>\n",
       "      <td>[36, 11, 23, 59, 78, 116, 102, 48, 46, 35, 23,...</td>\n",
       "      <td>908759</td>\n",
       "      <td>John F Kennedy International Airport Terminal 5</td>\n",
       "      <td>John F. Kennedy International Airport Terminal 5</td>\n",
       "      <td>New York</td>\n",
       "      <td>NY</td>\n",
       "      <td>11430</td>\n",
       "      <td>US</td>\n",
       "      <td>NaN</td>\n",
       "      <td>NaN</td>\n",
       "      <td>NaN</td>\n",
       "      <td>Support Activities for Air Transportation</td>\n",
       "      <td>Other Airport Operations</td>\n",
       "      <td>488119.0</td>\n",
       "      <td>40.646035</td>\n",
       "      <td>-73.776445</td>\n",
       "      <td>NaN</td>\n",
       "      <td>NaN</td>\n",
       "      <td>NaN</td>\n",
       "    </tr>\n",
       "  </tbody>\n",
       "</table>\n",
       "</div>"
      ],
      "text/plain": [
       "                    safegraph_place_id  \\\n",
       "0  sg:50411cf6c22142b6ae91d0eaa2e3190c   \n",
       "1  sg:354dce54a24840899c681d5e62d52899   \n",
       "\n",
       "                                       visits_by_day  \\\n",
       "0  [9596, 10273, 10984, 11750, 11310, 10363, 1160...   \n",
       "1  [1616, 1656, 1708, 1869, 1790, 1818, 1949, 183...   \n",
       "\n",
       "                                 visits_by_each_hour  raw_visit_counts  \\\n",
       "0  [244, 120, 143, 180, 283, 569, 533, 281, 183, ...           5130262   \n",
       "1  [36, 11, 23, 59, 78, 116, 102, 48, 46, 35, 23,...            908759   \n",
       "\n",
       "                                     location_name  \\\n",
       "0             John F Kennedy International Airport   \n",
       "1  John F Kennedy International Airport Terminal 5   \n",
       "\n",
       "                                     street_address      city region  \\\n",
       "0             John F. Kennedy International Airport  New York     NY   \n",
       "1  John F. Kennedy International Airport Terminal 5  New York     NY   \n",
       "\n",
       "   postal_code iso_country_code safegraph_brand_ids brands  \\\n",
       "0        11430               US                 NaN    NaN   \n",
       "1        11430               US                 NaN    NaN   \n",
       "\n",
       "  parent_safegraph_place_id                               top_category  \\\n",
       "0                       NaN  Support Activities for Air Transportation   \n",
       "1                       NaN  Support Activities for Air Transportation   \n",
       "\n",
       "               sub_category  naics_code   latitude  longitude  phone_number  \\\n",
       "0  Other Airport Operations    488119.0  40.639210 -73.774480           NaN   \n",
       "1  Other Airport Operations    488119.0  40.646035 -73.776445           NaN   \n",
       "\n",
       "  open_hours category_tags  \n",
       "0        NaN           NaN  \n",
       "1        NaN           NaN  "
      ]
     },
     "execution_count": 69,
     "metadata": {},
     "output_type": "execute_result"
    }
   ],
   "source": [
    "DATASET = 'New York'\n",
    "csv_path = f'/home/users/arash/datasets/safegraph/weekly_patterns_2019-01-07_2020-06-08_{DATASET}.csv'\n",
    "poi_info_csv_path = '/home/users/arash/datasets/safegraph/core_poi_info_2019-01-07_2020-06-08.csv'\n",
    "\n",
    "ny_df = get_full_df(csv_path_weekly=csv_path, \n",
    "                         poi_info_csv_path=poi_info_csv_path, \n",
    "                         start_row=START_POI, end_row=END_POI, \n",
    "                         total_days=TOTAL_DAYS,\n",
    "                         city=DATASET)\n",
    "\n",
    "ny_df.head(2)"
   ]
  },
  {
   "cell_type": "code",
   "execution_count": 70,
   "metadata": {},
   "outputs": [
    {
     "name": "stdout",
     "output_type": "stream",
     "text": [
      "Number of POI categories:\n"
     ]
    },
    {
     "data": {
      "text/plain": [
       "32"
      ]
     },
     "execution_count": 70,
     "metadata": {},
     "output_type": "execute_result"
    }
   ],
   "source": [
    "print('Number of POI categories:')\n",
    "len(ny_df['top_category'].unique())"
   ]
  },
  {
   "cell_type": "code",
   "execution_count": 71,
   "metadata": {},
   "outputs": [
    {
     "name": "stdout",
     "output_type": "stream",
     "text": [
      "Median number of hourly POI visits:\n"
     ]
    },
    {
     "data": {
      "text/plain": [
       "8.881783333333333"
      ]
     },
     "execution_count": 71,
     "metadata": {},
     "output_type": "execute_result"
    }
   ],
   "source": [
    "print('Median number of hourly POI visits:')\n",
    "ny_df['visits_by_each_hour'].apply(lambda x: np.array(x).mean()).mean()"
   ]
  },
  {
   "cell_type": "markdown",
   "metadata": {},
   "source": [
    "### San Antonio Dataset Stats"
   ]
  },
  {
   "cell_type": "code",
   "execution_count": 72,
   "metadata": {},
   "outputs": [
    {
     "name": "stdout",
     "output_type": "stream",
     "text": [
      "core_poi-part2.csv\n",
      "core_poi-part5.csv\n",
      "core_poi-part4.csv\n",
      "core_poi-part3.csv\n",
      "core_poi-part1.csv\n"
     ]
    },
    {
     "data": {
      "text/html": [
       "<div>\n",
       "<style scoped>\n",
       "    .dataframe tbody tr th:only-of-type {\n",
       "        vertical-align: middle;\n",
       "    }\n",
       "\n",
       "    .dataframe tbody tr th {\n",
       "        vertical-align: top;\n",
       "    }\n",
       "\n",
       "    .dataframe thead th {\n",
       "        text-align: right;\n",
       "    }\n",
       "</style>\n",
       "<table border=\"1\" class=\"dataframe\">\n",
       "  <thead>\n",
       "    <tr style=\"text-align: right;\">\n",
       "      <th></th>\n",
       "      <th>safegraph_place_id</th>\n",
       "      <th>visits_by_day</th>\n",
       "      <th>visits_by_each_hour</th>\n",
       "      <th>raw_visit_counts</th>\n",
       "      <th>location_name</th>\n",
       "      <th>street_address</th>\n",
       "      <th>city</th>\n",
       "      <th>region</th>\n",
       "      <th>postal_code</th>\n",
       "      <th>iso_country_code</th>\n",
       "      <th>safegraph_brand_ids</th>\n",
       "      <th>brands</th>\n",
       "      <th>parent_safegraph_place_id</th>\n",
       "      <th>top_category</th>\n",
       "      <th>sub_category</th>\n",
       "      <th>naics_code</th>\n",
       "      <th>latitude</th>\n",
       "      <th>longitude</th>\n",
       "      <th>phone_number</th>\n",
       "      <th>open_hours</th>\n",
       "      <th>category_tags</th>\n",
       "    </tr>\n",
       "  </thead>\n",
       "  <tbody>\n",
       "    <tr>\n",
       "      <th>0</th>\n",
       "      <td>sg:6e92f4bf113945ce9523ac1de6f0eec9</td>\n",
       "      <td>[1728, 2001, 2028, 2245, 2145, 1471, 2011, 210...</td>\n",
       "      <td>[47, 9, 10, 39, 111, 92, 63, 52, 43, 40, 50, 5...</td>\n",
       "      <td>1072682</td>\n",
       "      <td>San Antonio International Airport</td>\n",
       "      <td>9800 Airport Blvd</td>\n",
       "      <td>San Antonio</td>\n",
       "      <td>TX</td>\n",
       "      <td>78216</td>\n",
       "      <td>US</td>\n",
       "      <td>NaN</td>\n",
       "      <td>NaN</td>\n",
       "      <td>NaN</td>\n",
       "      <td>Support Activities for Air Transportation</td>\n",
       "      <td>Other Airport Operations</td>\n",
       "      <td>488119.0</td>\n",
       "      <td>29.531062</td>\n",
       "      <td>-98.469002</td>\n",
       "      <td>1.210207e+10</td>\n",
       "      <td>NaN</td>\n",
       "      <td>NaN</td>\n",
       "    </tr>\n",
       "    <tr>\n",
       "      <th>1</th>\n",
       "      <td>sg:0a02d0db794a4a99bc508a079afecfec</td>\n",
       "      <td>[1108, 1208, 1299, 1333, 1903, 2793, 1996, 106...</td>\n",
       "      <td>[5, 2, 1, 1, 1, 3, 3, 7, 3, 11, 21, 42, 58, 16...</td>\n",
       "      <td>901514</td>\n",
       "      <td>Rim Shopping Center The</td>\n",
       "      <td>17503 La Cantera Pkwy</td>\n",
       "      <td>San Antonio</td>\n",
       "      <td>TX</td>\n",
       "      <td>78257</td>\n",
       "      <td>US</td>\n",
       "      <td>NaN</td>\n",
       "      <td>NaN</td>\n",
       "      <td>NaN</td>\n",
       "      <td>Lessors of Real Estate</td>\n",
       "      <td>Malls</td>\n",
       "      <td>531120.0</td>\n",
       "      <td>29.609904</td>\n",
       "      <td>-98.597926</td>\n",
       "      <td>NaN</td>\n",
       "      <td>NaN</td>\n",
       "      <td>NaN</td>\n",
       "    </tr>\n",
       "  </tbody>\n",
       "</table>\n",
       "</div>"
      ],
      "text/plain": [
       "                    safegraph_place_id  \\\n",
       "0  sg:6e92f4bf113945ce9523ac1de6f0eec9   \n",
       "1  sg:0a02d0db794a4a99bc508a079afecfec   \n",
       "\n",
       "                                       visits_by_day  \\\n",
       "0  [1728, 2001, 2028, 2245, 2145, 1471, 2011, 210...   \n",
       "1  [1108, 1208, 1299, 1333, 1903, 2793, 1996, 106...   \n",
       "\n",
       "                                 visits_by_each_hour  raw_visit_counts  \\\n",
       "0  [47, 9, 10, 39, 111, 92, 63, 52, 43, 40, 50, 5...           1072682   \n",
       "1  [5, 2, 1, 1, 1, 3, 3, 7, 3, 11, 21, 42, 58, 16...            901514   \n",
       "\n",
       "                       location_name         street_address         city  \\\n",
       "0  San Antonio International Airport      9800 Airport Blvd  San Antonio   \n",
       "1            Rim Shopping Center The  17503 La Cantera Pkwy  San Antonio   \n",
       "\n",
       "  region  postal_code iso_country_code safegraph_brand_ids brands  \\\n",
       "0     TX        78216               US                 NaN    NaN   \n",
       "1     TX        78257               US                 NaN    NaN   \n",
       "\n",
       "  parent_safegraph_place_id                               top_category  \\\n",
       "0                       NaN  Support Activities for Air Transportation   \n",
       "1                       NaN                     Lessors of Real Estate   \n",
       "\n",
       "               sub_category  naics_code   latitude  longitude  phone_number  \\\n",
       "0  Other Airport Operations    488119.0  29.531062 -98.469002  1.210207e+10   \n",
       "1                     Malls    531120.0  29.609904 -98.597926           NaN   \n",
       "\n",
       "  open_hours category_tags  \n",
       "0        NaN           NaN  \n",
       "1        NaN           NaN  "
      ]
     },
     "execution_count": 72,
     "metadata": {},
     "output_type": "execute_result"
    }
   ],
   "source": [
    "DATASET = 'San Antonio'\n",
    "csv_path = f'/home/users/arash/datasets/safegraph/weekly_patterns_2019-01-07_2020-06-08_{DATASET}.csv'\n",
    "poi_info_csv_path = '/home/users/arash/datasets/safegraph/core_poi_info_2019-01-07_2020-06-08.csv'\n",
    "\n",
    "sa_df = get_full_df(csv_path_weekly=csv_path, \n",
    "                         poi_info_csv_path=poi_info_csv_path, \n",
    "                         start_row=START_POI, end_row=END_POI, \n",
    "                         total_days=TOTAL_DAYS,\n",
    "                         city=DATASET)\n",
    "\n",
    "sa_df.head(2)"
   ]
  },
  {
   "cell_type": "code",
   "execution_count": 73,
   "metadata": {},
   "outputs": [
    {
     "name": "stdout",
     "output_type": "stream",
     "text": [
      "Number of POI categories:\n"
     ]
    },
    {
     "data": {
      "text/plain": [
       "42"
      ]
     },
     "execution_count": 73,
     "metadata": {},
     "output_type": "execute_result"
    }
   ],
   "source": [
    "print('Number of POI categories:')\n",
    "len(sa_df['top_category'].unique())"
   ]
  },
  {
   "cell_type": "code",
   "execution_count": 74,
   "metadata": {},
   "outputs": [
    {
     "name": "stdout",
     "output_type": "stream",
     "text": [
      "Median number of hourly POI visits:\n"
     ]
    },
    {
     "data": {
      "text/plain": [
       "8.127254687499999"
      ]
     },
     "execution_count": 74,
     "metadata": {},
     "output_type": "execute_result"
    }
   ],
   "source": [
    "print('Median number of hourly POI visits:')\n",
    "sa_df['visits_by_each_hour'].apply(lambda x: np.array(x).mean()).mean()"
   ]
  }
 ],
 "metadata": {
  "kernelspec": {
   "display_name": "Python 3.8.13 ('torch_env')",
   "language": "python",
   "name": "python3"
  },
  "language_info": {
   "codemirror_mode": {
    "name": "ipython",
    "version": 3
   },
   "file_extension": ".py",
   "mimetype": "text/x-python",
   "name": "python",
   "nbconvert_exporter": "python",
   "pygments_lexer": "ipython3",
   "version": "3.8.13"
  },
  "orig_nbformat": 4,
  "vscode": {
   "interpreter": {
    "hash": "b88c8745283815b98337f4b3716f836eeb85b3be9a1806f267ae3ff937720db0"
   }
  }
 },
 "nbformat": 4,
 "nbformat_minor": 2
}
