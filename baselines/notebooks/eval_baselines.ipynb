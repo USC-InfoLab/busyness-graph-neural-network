{
 "cells": [
  {
   "cell_type": "code",
   "execution_count": 25,
   "metadata": {},
   "outputs": [],
   "source": [
    "import pandas as pd\n",
    "import numpy as np\n",
    "import matplotlib.pyplot as plt\n",
    "import ast\n",
    "import datetime"
   ]
  },
  {
   "cell_type": "code",
   "execution_count": 30,
   "metadata": {},
   "outputs": [],
   "source": [
    "START_POI = 0\n",
    "END_POI = 400\n",
    "TOTAL_DAYS = 400\n",
    "TRAIN_RATIO = 0.7\n",
    "VAL_RATIO = 0.2\n",
    "TEST_RATIO = 1-(TRAIN_RATIO+VAL_RATIO)\n",
    "START_DATE = '2018-12-31'\n",
    "WINDOW_SIZE = 24\n",
    "HORIZON = 6\n",
    "DATASET = 'Houston'"
   ]
  },
  {
   "cell_type": "code",
   "execution_count": 31,
   "metadata": {},
   "outputs": [],
   "source": [
    "def masked_MAPE(v, v_, axis=None):\n",
    "    '''\n",
    "    Mean absolute percentage error.\n",
    "    :param v: np.ndarray or int, ground truth.\n",
    "    :param v_: np.ndarray or int, prediction.\n",
    "    :param axis: axis to do calculation.\n",
    "    :return: int, MAPE averages on all elements of input.\n",
    "    '''\n",
    "    # TODO: Remove this line\n",
    "    v_ = np.where(v_<0, 0,v_)\n",
    "    \n",
    "    mask = (v < 1E-5)\n",
    "    percentage = np.abs(v_ - v) / np.abs(v)\n",
    "    percentage = np.where(percentage > 5, 5, percentage) # TODO remove this\n",
    "    if np.any(mask):\n",
    "        masked_array = np.ma.masked_array(percentage, mask=mask)  # mask the dividing-zero as invalid\n",
    "        result = masked_array.mean(axis=axis)\n",
    "        if isinstance(result, np.ma.MaskedArray):\n",
    "            return result.filled(np.nan)\n",
    "        else:\n",
    "            return result\n",
    "    return np.mean(percentage, axis).astype(np.float64)\n",
    "\n",
    "\n",
    "def MAPE(v, v_, axis=None):\n",
    "    '''\n",
    "    Mean absolute percentage error.\n",
    "    :param v: np.ndarray or int, ground truth.\n",
    "    :param v_: np.ndarray or int, prediction.\n",
    "    :param axis: axis to do calculation.\n",
    "    :return: int, MAPE averages on all elements of input.\n",
    "    '''\n",
    "    # TODO: Remove this line\n",
    "    v_ = np.where(v_<0, 0,v_)\n",
    "    mape = (np.abs(v_ - v) / np.abs(v)+1e-5).astype(np.float64)\n",
    "    mape = np.where(mape > 5, 5, mape)\n",
    "    return np.mean(mape, axis)\n",
    "\n",
    "\n",
    "def RMSE(v, v_, axis=None):\n",
    "    '''\n",
    "    Mean squared error.\n",
    "    :param v: np.ndarray or int, ground truth.\n",
    "    :param v_: np.ndarray or int, prediction.\n",
    "    :param axis: axis to do calculation.\n",
    "    :return: int, RMSE averages on all elements of input.\n",
    "    '''\n",
    "    return np.sqrt(np.mean((v_ - v) ** 2, axis)).astype(np.float64)\n",
    "\n",
    "\n",
    "\n",
    "\n",
    "def MAE(v, v_, axis=None):\n",
    "    '''\n",
    "    Mean absolute error.\n",
    "    :param v: np.ndarray or int, ground truth.\n",
    "    :param v_: np.ndarray or int, prediction.\n",
    "    :param axis: axis to do calculation.\n",
    "    :return: int, MAE averages on all elements of input.\n",
    "    '''\n",
    "\n",
    "    return np.mean(np.abs(v_ - v), axis).astype(np.float64)\n",
    "\n",
    "\n",
    "def evaluate(y, y_hat, by_step=False, by_node=False):\n",
    "    '''\n",
    "    :param y: array in shape of [count, time_step, node].\n",
    "    :param y_hat: in same shape with y.\n",
    "    :param by_step: evaluate by time_step dim.\n",
    "    :param by_node: evaluate by node dim.\n",
    "    :return: array of mape, mae and rmse.\n",
    "    '''\n",
    "    if not by_step and not by_node:\n",
    "        return masked_MAPE(y, y_hat), MAE(y, y_hat), RMSE(y, y_hat)\n",
    "    if by_step and by_node:\n",
    "        return masked_MAPE(y, y_hat, axis=0), MAE(y, y_hat, axis=0), RMSE(y, y_hat, axis=0)\n",
    "    if by_step:\n",
    "        return masked_MAPE(y, y_hat, axis=(0, 2)), MAE(y, y_hat, axis=(0, 2)), RMSE(y, y_hat, axis=(0, 2))\n",
    "    if by_node:\n",
    "        return masked_MAPE(y, y_hat, axis=(0, 1)), MAE(y, y_hat, axis=(0, 1)), RMSE(y, y_hat, axis=(0, 1))"
   ]
  },
  {
   "cell_type": "code",
   "execution_count": 32,
   "metadata": {},
   "outputs": [],
   "source": [
    "val_prediction_path = f'../../output/baselines/{DATASET}/historical_avg_forecasts.csv'\n",
    "val_target_path = f'../../output/baselines/{DATASET}/target.csv'"
   ]
  },
  {
   "cell_type": "code",
   "execution_count": 34,
   "metadata": {},
   "outputs": [],
   "source": [
    "val_predict_df = pd.read_csv(val_prediction_path, header=None).to_numpy()\n",
    "val_target_df = pd.read_csv(val_target_path, header=None).to_numpy()"
   ]
  },
  {
   "cell_type": "code",
   "execution_count": 40,
   "metadata": {},
   "outputs": [
    {
     "data": {
      "text/plain": [
       "(1892, 20)"
      ]
     },
     "execution_count": 40,
     "metadata": {},
     "output_type": "execute_result"
    }
   ],
   "source": [
    "val_predict_df[:, :20].shape"
   ]
  },
  {
   "cell_type": "code",
   "execution_count": 37,
   "metadata": {},
   "outputs": [
    {
     "name": "stderr",
     "output_type": "stream",
     "text": [
      "/tmp/ipykernel_31749/3177913784.py:13: RuntimeWarning: divide by zero encountered in true_divide\n",
      "  percentage = np.abs(v_ - v) / np.abs(v)\n",
      "/tmp/ipykernel_31749/3177913784.py:13: RuntimeWarning: invalid value encountered in true_divide\n",
      "  percentage = np.abs(v_ - v) / np.abs(v)\n"
     ]
    },
    {
     "data": {
      "text/plain": [
       "(0.7830078646799231, 8.86041754756871, 26.911243936529885)"
      ]
     },
     "execution_count": 37,
     "metadata": {},
     "output_type": "execute_result"
    }
   ],
   "source": [
    "evaluate(val_target_df, val_predict_df)"
   ]
  },
  {
   "cell_type": "code",
   "execution_count": null,
   "metadata": {},
   "outputs": [],
   "source": []
  }
 ],
 "metadata": {
  "kernelspec": {
   "display_name": "Python 3.8.13 ('torch_env')",
   "language": "python",
   "name": "python3"
  },
  "language_info": {
   "codemirror_mode": {
    "name": "ipython",
    "version": 3
   },
   "file_extension": ".py",
   "mimetype": "text/x-python",
   "name": "python",
   "nbconvert_exporter": "python",
   "pygments_lexer": "ipython3",
   "version": "3.8.13"
  },
  "orig_nbformat": 4,
  "vscode": {
   "interpreter": {
    "hash": "b88c8745283815b98337f4b3716f836eeb85b3be9a1806f267ae3ff937720db0"
   }
  }
 },
 "nbformat": 4,
 "nbformat_minor": 2
}
