{
 "cells": [
  {
   "cell_type": "code",
   "execution_count": 15,
   "metadata": {},
   "outputs": [],
   "source": [
    "import pandas as pd\n",
    "import numpy as np\n",
    "from datetime import datetime, timedelta\n",
    "\n",
    "from utils.data_utils import get_full_df"
   ]
  },
  {
   "cell_type": "code",
   "execution_count": 14,
   "metadata": {},
   "outputs": [],
   "source": [
    "SEED = 117\n",
    "TOTAL_DAYS = 400\n",
    "START_POI = 0\n",
    "END_POI = 400\n",
    "TRAIN_RATIO = 0.7\n",
    "VALID_RATIO = 0.2\n",
    "TEST_RATIO = 0.1\n",
    "DATASET = 'Houston'\n",
    "START_DATE = '2018-12-31'\n",
    "\n",
    "csv_path = f'/home/users/arash/datasets/safegraph/weekly_patterns_2019-01-07_2020-06-08_{DATASET}.csv'\n",
    "poi_info_csv_path = '/home/users/arash/datasets/safegraph/core_poi_info_2019-01-07_2020-06-08.csv'\n"
   ]
  },
  {
   "cell_type": "code",
   "execution_count": 8,
   "metadata": {},
   "outputs": [
    {
     "name": "stdout",
     "output_type": "stream",
     "text": [
      "core_poi-part2.csv\n",
      "core_poi-part5.csv\n",
      "core_poi-part4.csv\n",
      "core_poi-part3.csv\n",
      "core_poi-part1.csv\n"
     ]
    }
   ],
   "source": [
    "df = get_full_df(csv_path_weekly=csv_path, \n",
    "                         poi_info_csv_path=poi_info_csv_path, \n",
    "                         start_row=START_POI, end_row=END_POI, \n",
    "                         total_days=TOTAL_DAYS,\n",
    "                         city=DATASET)"
   ]
  },
  {
   "cell_type": "code",
   "execution_count": 11,
   "metadata": {},
   "outputs": [],
   "source": [
    "data = pd.DataFrame(df[\"visits_by_each_hour\"].to_list()).T"
   ]
  },
  {
   "cell_type": "code",
   "execution_count": 16,
   "metadata": {},
   "outputs": [
    {
     "data": {
      "text/plain": [
       "array(['2018-12-31T00:00:00.000000000', '2018-12-31T01:00:00.000000000',\n",
       "       '2018-12-31T02:00:00.000000000', ...,\n",
       "       '2020-02-03T21:00:00.000000000', '2020-02-03T22:00:00.000000000',\n",
       "       '2020-02-03T23:00:00.000000000'], dtype='datetime64[ns]')"
      ]
     },
     "execution_count": 16,
     "metadata": {},
     "output_type": "execute_result"
    }
   ],
   "source": [
    "date_format = r'%Y-%m-%d'\n",
    "start_time = datetime.strptime(START_DATE, date_format)\n",
    "end_time = start_time + timedelta(days=TOTAL_DAYS)\n",
    "time_span = pd.date_range(start_time, end_time, freq='1H', closed='left').to_numpy()\n",
    "time_span"
   ]
  },
  {
   "cell_type": "code",
   "execution_count": 22,
   "metadata": {},
   "outputs": [],
   "source": [
    "data = data.set_index(time_span)"
   ]
  }
 ],
 "metadata": {
  "kernelspec": {
   "display_name": "Python 3.8.13 ('torch_env')",
   "language": "python",
   "name": "python3"
  },
  "language_info": {
   "codemirror_mode": {
    "name": "ipython",
    "version": 3
   },
   "file_extension": ".py",
   "mimetype": "text/x-python",
   "name": "python",
   "nbconvert_exporter": "python",
   "pygments_lexer": "ipython3",
   "version": "3.8.13"
  },
  "orig_nbformat": 4,
  "vscode": {
   "interpreter": {
    "hash": "b88c8745283815b98337f4b3716f836eeb85b3be9a1806f267ae3ff937720db0"
   }
  }
 },
 "nbformat": 4,
 "nbformat_minor": 2
}
