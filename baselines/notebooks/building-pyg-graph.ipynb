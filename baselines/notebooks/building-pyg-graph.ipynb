{
 "cells": [
  {
   "cell_type": "code",
   "execution_count": 1,
   "metadata": {},
   "outputs": [
    {
     "name": "stderr",
     "output_type": "stream",
     "text": [
      "/home/users/arash/anaconda3/envs/pyg/lib/python3.10/site-packages/tqdm/auto.py:22: TqdmWarning: IProgress not found. Please update jupyter and ipywidgets. See https://ipywidgets.readthedocs.io/en/stable/user_install.html\n",
      "  from .autonotebook import tqdm as notebook_tqdm\n"
     ]
    }
   ],
   "source": [
    "import numpy as np\n",
    "import torch\n",
    "import pandas as pd\n",
    "import urllib.request\n",
    "import zipfile\n",
    "\n",
    "from utils.data_utils import get_full_df\n",
    "\n",
    "from torch_geometric.utils import dense_to_sparse\n",
    "from torch_geometric_temporal.signal import StaticGraphTemporalSignal\n",
    "\n",
    "pd.options.display.max_columns = 50"
   ]
  },
  {
   "cell_type": "code",
   "execution_count": 2,
   "metadata": {},
   "outputs": [],
   "source": [
    "SEED = 117\n",
    "TOTAL_DAYS = 400\n",
    "START_POI = 0\n",
    "END_POI = 400\n",
    "TRAIN_RATIO = 0.7\n",
    "VALID_RATIO = 0.2\n",
    "TEST_RATIO = 1 - (TRAIN_RATIO + VALID_RATIO)\n",
    "DATASET = 'Houston'\n",
    "START_DATE = '2018-12-31'\n",
    "WINDOW_SIZE = 24\n",
    "HORIZON = 6\n",
    "\n",
    "NUM_NODES = END_POI - START_POI\n",
    "\n",
    "csv_path = f'/home/users/arash/datasets/safegraph/weekly_patterns_2019-01-07_2020-06-08_{DATASET}.csv'\n",
    "poi_info_csv_path = '/home/users/arash/datasets/safegraph/core_poi_info_2019-01-07_2020-06-08.csv'\n"
   ]
  },
  {
   "cell_type": "code",
   "execution_count": 3,
   "metadata": {},
   "outputs": [
    {
     "name": "stdout",
     "output_type": "stream",
     "text": [
      "core_poi-part2.csv\n",
      "core_poi-part5.csv\n",
      "core_poi-part4.csv\n",
      "core_poi-part3.csv\n",
      "core_poi-part1.csv\n"
     ]
    }
   ],
   "source": [
    "df = get_full_df(csv_path_weekly=csv_path, \n",
    "                         poi_info_csv_path=poi_info_csv_path, \n",
    "                         start_row=START_POI, end_row=END_POI, \n",
    "                         total_days=TOTAL_DAYS,\n",
    "                         city=DATASET)"
   ]
  },
  {
   "cell_type": "code",
   "execution_count": 4,
   "metadata": {},
   "outputs": [
    {
     "data": {
      "text/html": [
       "<div>\n",
       "<style scoped>\n",
       "    .dataframe tbody tr th:only-of-type {\n",
       "        vertical-align: middle;\n",
       "    }\n",
       "\n",
       "    .dataframe tbody tr th {\n",
       "        vertical-align: top;\n",
       "    }\n",
       "\n",
       "    .dataframe thead th {\n",
       "        text-align: right;\n",
       "    }\n",
       "</style>\n",
       "<table border=\"1\" class=\"dataframe\">\n",
       "  <thead>\n",
       "    <tr style=\"text-align: right;\">\n",
       "      <th></th>\n",
       "      <th>safegraph_place_id</th>\n",
       "      <th>visits_by_day</th>\n",
       "      <th>visits_by_each_hour</th>\n",
       "      <th>raw_visit_counts</th>\n",
       "      <th>location_name</th>\n",
       "      <th>street_address</th>\n",
       "      <th>city</th>\n",
       "      <th>region</th>\n",
       "      <th>postal_code</th>\n",
       "      <th>iso_country_code</th>\n",
       "      <th>safegraph_brand_ids</th>\n",
       "      <th>brands</th>\n",
       "      <th>parent_safegraph_place_id</th>\n",
       "      <th>top_category</th>\n",
       "      <th>sub_category</th>\n",
       "      <th>naics_code</th>\n",
       "      <th>latitude</th>\n",
       "      <th>longitude</th>\n",
       "      <th>phone_number</th>\n",
       "      <th>open_hours</th>\n",
       "      <th>category_tags</th>\n",
       "    </tr>\n",
       "  </thead>\n",
       "  <tbody>\n",
       "    <tr>\n",
       "      <th>0</th>\n",
       "      <td>sg:4cc165ff43ec4ce29e9dbe0732267ab1</td>\n",
       "      <td>[6140, 6399, 6752, 7324, 7255, 5874, 7496, 700...</td>\n",
       "      <td>[83, 49, 41, 60, 187, 301, 161, 151, 257, 112,...</td>\n",
       "      <td>3574654</td>\n",
       "      <td>George Bush Intercontinental Airport</td>\n",
       "      <td>2800 N Terminal Rd</td>\n",
       "      <td>Houston</td>\n",
       "      <td>TX</td>\n",
       "      <td>77032</td>\n",
       "      <td>US</td>\n",
       "      <td>NaN</td>\n",
       "      <td>NaN</td>\n",
       "      <td>NaN</td>\n",
       "      <td>Support Activities for Air Transportation</td>\n",
       "      <td>Other Airport Operations</td>\n",
       "      <td>488119.0</td>\n",
       "      <td>29.981382</td>\n",
       "      <td>-95.322839</td>\n",
       "      <td>NaN</td>\n",
       "      <td>NaN</td>\n",
       "      <td>NaN</td>\n",
       "    </tr>\n",
       "    <tr>\n",
       "      <th>1</th>\n",
       "      <td>sg:e8af4e248bbf41549aaec725d038ee42</td>\n",
       "      <td>[2553, 2568, 2729, 2939, 2940, 2541, 3215, 290...</td>\n",
       "      <td>[21, 23, 21, 14, 52, 108, 53, 56, 130, 38, 119...</td>\n",
       "      <td>1427339</td>\n",
       "      <td>American Express Centurion Lounge</td>\n",
       "      <td>2800 N Terminal Rd Terminal D</td>\n",
       "      <td>Houston</td>\n",
       "      <td>TX</td>\n",
       "      <td>77032</td>\n",
       "      <td>US</td>\n",
       "      <td>NaN</td>\n",
       "      <td>NaN</td>\n",
       "      <td>sg:f4a955def8ca49fd87153af82a237245</td>\n",
       "      <td>Gasoline Stations</td>\n",
       "      <td>Gasoline Stations with Convenience Stores</td>\n",
       "      <td>447110.0</td>\n",
       "      <td>29.987829</td>\n",
       "      <td>-95.334916</td>\n",
       "      <td>NaN</td>\n",
       "      <td>{ \"Mon\": [[\"5:30\", \"21:00\"]], \"Tue\": [[\"5:30\",...</td>\n",
       "      <td>NaN</td>\n",
       "    </tr>\n",
       "    <tr>\n",
       "      <th>2</th>\n",
       "      <td>sg:01cebfb757224fbd8151ee6ac6b0d679</td>\n",
       "      <td>[2122, 2538, 2558, 2641, 2911, 3741, 2484, 245...</td>\n",
       "      <td>[6, 5, 12, 4, 7, 20, 31, 40, 50, 58, 64, 97, 8...</td>\n",
       "      <td>1357595</td>\n",
       "      <td>Simon mall</td>\n",
       "      <td>5085 Westheimer Rd</td>\n",
       "      <td>Houston</td>\n",
       "      <td>TX</td>\n",
       "      <td>77056</td>\n",
       "      <td>US</td>\n",
       "      <td>SG_BRAND_0a3c99595c9d3fddfece9c4e7607e5b3</td>\n",
       "      <td>Simon mall</td>\n",
       "      <td>NaN</td>\n",
       "      <td>Lessors of Real Estate</td>\n",
       "      <td>Malls</td>\n",
       "      <td>531120.0</td>\n",
       "      <td>29.738954</td>\n",
       "      <td>-95.463803</td>\n",
       "      <td>NaN</td>\n",
       "      <td>{ \"Mon\": [[\"10:00\", \"19:00\"]], \"Tue\": [[\"10:00...</td>\n",
       "      <td>NaN</td>\n",
       "    </tr>\n",
       "    <tr>\n",
       "      <th>3</th>\n",
       "      <td>sg:73e44ffdbcb24363bf01b6158373b9f3</td>\n",
       "      <td>[2400, 2404, 2536, 2762, 2746, 2367, 3016, 268...</td>\n",
       "      <td>[15, 18, 16, 13, 47, 97, 49, 54, 123, 37, 114,...</td>\n",
       "      <td>1329978</td>\n",
       "      <td>George Bush Intercontinental Airport Terminal E</td>\n",
       "      <td>3950 S Terminal Terminal E</td>\n",
       "      <td>Houston</td>\n",
       "      <td>TX</td>\n",
       "      <td>77066</td>\n",
       "      <td>US</td>\n",
       "      <td>NaN</td>\n",
       "      <td>NaN</td>\n",
       "      <td>sg:7dea7a58e8424b22ba0d0b96bc1b6cc9</td>\n",
       "      <td>Traveler Accommodation</td>\n",
       "      <td>Hotels (except Casino Hotels) and Motels</td>\n",
       "      <td>721110.0</td>\n",
       "      <td>29.986670</td>\n",
       "      <td>-95.337942</td>\n",
       "      <td>NaN</td>\n",
       "      <td>NaN</td>\n",
       "      <td>NaN</td>\n",
       "    </tr>\n",
       "    <tr>\n",
       "      <th>4</th>\n",
       "      <td>sg:360d88ef2ced4be180ea24290b9f9df4</td>\n",
       "      <td>[2173, 2256, 2383, 2704, 2610, 1822, 2612, 248...</td>\n",
       "      <td>[36, 9, 11, 20, 71, 108, 63, 92, 44, 83, 68, 6...</td>\n",
       "      <td>1222177</td>\n",
       "      <td>William P Hobby Airport</td>\n",
       "      <td>7800 Airport Blvd</td>\n",
       "      <td>Houston</td>\n",
       "      <td>TX</td>\n",
       "      <td>77061</td>\n",
       "      <td>US</td>\n",
       "      <td>NaN</td>\n",
       "      <td>NaN</td>\n",
       "      <td>NaN</td>\n",
       "      <td>Support Activities for Air Transportation</td>\n",
       "      <td>Other Airport Operations</td>\n",
       "      <td>488119.0</td>\n",
       "      <td>29.646145</td>\n",
       "      <td>-95.277014</td>\n",
       "      <td>1.713640e+10</td>\n",
       "      <td>NaN</td>\n",
       "      <td>NaN</td>\n",
       "    </tr>\n",
       "    <tr>\n",
       "      <th>...</th>\n",
       "      <td>...</td>\n",
       "      <td>...</td>\n",
       "      <td>...</td>\n",
       "      <td>...</td>\n",
       "      <td>...</td>\n",
       "      <td>...</td>\n",
       "      <td>...</td>\n",
       "      <td>...</td>\n",
       "      <td>...</td>\n",
       "      <td>...</td>\n",
       "      <td>...</td>\n",
       "      <td>...</td>\n",
       "      <td>...</td>\n",
       "      <td>...</td>\n",
       "      <td>...</td>\n",
       "      <td>...</td>\n",
       "      <td>...</td>\n",
       "      <td>...</td>\n",
       "      <td>...</td>\n",
       "      <td>...</td>\n",
       "      <td>...</td>\n",
       "    </tr>\n",
       "    <tr>\n",
       "      <th>395</th>\n",
       "      <td>sg:b65354230b3842c8b23144a0997a62d7</td>\n",
       "      <td>[7, 204, 158, 162, 178, 74, 3, 165, 184, 185, ...</td>\n",
       "      <td>[0, 0, 0, 0, 0, 0, 0, 0, 0, 0, 0, 0, 0, 4, 1, ...</td>\n",
       "      <td>48299</td>\n",
       "      <td>Ulrich Int</td>\n",
       "      <td>10103 Spring Cypress Rd</td>\n",
       "      <td>Houston</td>\n",
       "      <td>TX</td>\n",
       "      <td>77070</td>\n",
       "      <td>US</td>\n",
       "      <td>NaN</td>\n",
       "      <td>NaN</td>\n",
       "      <td>NaN</td>\n",
       "      <td>Elementary and Secondary Schools</td>\n",
       "      <td>Elementary and Secondary Schools</td>\n",
       "      <td>611110.0</td>\n",
       "      <td>30.019021</td>\n",
       "      <td>-95.572301</td>\n",
       "      <td>1.832376e+10</td>\n",
       "      <td>NaN</td>\n",
       "      <td>NaN</td>\n",
       "    </tr>\n",
       "    <tr>\n",
       "      <th>396</th>\n",
       "      <td>sg:d8e741af0be848d899ac3d7e8dd382ca</td>\n",
       "      <td>[88, 109, 121, 111, 115, 147, 137, 118, 121, 1...</td>\n",
       "      <td>[0, 0, 1, 0, 0, 0, 1, 1, 1, 4, 2, 1, 1, 12, 6,...</td>\n",
       "      <td>48077</td>\n",
       "      <td>West U Marketplace</td>\n",
       "      <td>4004 Bellaire Blvd</td>\n",
       "      <td>Houston</td>\n",
       "      <td>TX</td>\n",
       "      <td>77025</td>\n",
       "      <td>US</td>\n",
       "      <td>NaN</td>\n",
       "      <td>NaN</td>\n",
       "      <td>NaN</td>\n",
       "      <td>Lessors of Real Estate</td>\n",
       "      <td>Malls</td>\n",
       "      <td>531120.0</td>\n",
       "      <td>29.706636</td>\n",
       "      <td>-95.441673</td>\n",
       "      <td>NaN</td>\n",
       "      <td>NaN</td>\n",
       "      <td>NaN</td>\n",
       "    </tr>\n",
       "    <tr>\n",
       "      <th>397</th>\n",
       "      <td>sg:18b3905a242544279285792988b7e502</td>\n",
       "      <td>[78, 89, 72, 94, 92, 138, 121, 85, 79, 97, 93,...</td>\n",
       "      <td>[0, 0, 0, 0, 0, 0, 2, 0, 3, 2, 5, 3, 1, 7, 9, ...</td>\n",
       "      <td>48007</td>\n",
       "      <td>Target</td>\n",
       "      <td>300 Meyerland Plaza Mall</td>\n",
       "      <td>Houston</td>\n",
       "      <td>TX</td>\n",
       "      <td>77096</td>\n",
       "      <td>US</td>\n",
       "      <td>SG_BRAND_42aefbae01d2dfd981f7da7d823d689e</td>\n",
       "      <td>Target</td>\n",
       "      <td>sg:2a7741c069e84897b44a806033428829</td>\n",
       "      <td>Department Stores</td>\n",
       "      <td>Department Stores</td>\n",
       "      <td>452210.0</td>\n",
       "      <td>29.687158</td>\n",
       "      <td>-95.462103</td>\n",
       "      <td>NaN</td>\n",
       "      <td>{ \"Mon\": [[\"8:00\", \"23:00\"]], \"Tue\": [[\"8:00\",...</td>\n",
       "      <td>NaN</td>\n",
       "    </tr>\n",
       "    <tr>\n",
       "      <th>398</th>\n",
       "      <td>sg:96ff5ed1e94843658944043e3843ebf5</td>\n",
       "      <td>[75, 90, 84, 91, 88, 85, 85, 84, 64, 71, 80, 8...</td>\n",
       "      <td>[1, 0, 0, 0, 0, 0, 0, 0, 2, 1, 2, 2, 4, 7, 9, ...</td>\n",
       "      <td>47828</td>\n",
       "      <td>Kroger</td>\n",
       "      <td>12222 Jones Rd</td>\n",
       "      <td>Houston</td>\n",
       "      <td>TX</td>\n",
       "      <td>77070</td>\n",
       "      <td>US</td>\n",
       "      <td>SG_BRAND_1f852a23da4b7250</td>\n",
       "      <td>Kroger</td>\n",
       "      <td>sg:5982c58cfc3b4c9f82a9be4e29517b06</td>\n",
       "      <td>Grocery Stores</td>\n",
       "      <td>Supermarkets and Other Grocery (except Conveni...</td>\n",
       "      <td>445110.0</td>\n",
       "      <td>29.951781</td>\n",
       "      <td>-95.582386</td>\n",
       "      <td>1.832913e+10</td>\n",
       "      <td>{ \"Mon\": [[\"6:00\", \"24:00\"]], \"Tue\": [[\"6:00\",...</td>\n",
       "      <td>NaN</td>\n",
       "    </tr>\n",
       "    <tr>\n",
       "      <th>399</th>\n",
       "      <td>sg:cdf2cf07c99b4493bf572cb45387e486</td>\n",
       "      <td>[133, 175, 184, 197, 90, 13, 4, 173, 184, 175,...</td>\n",
       "      <td>[0, 0, 0, 0, 2, 1, 9, 11, 7, 5, 5, 0, 3, 60, 5...</td>\n",
       "      <td>47677</td>\n",
       "      <td>WEST HOUSTON INFINITI</td>\n",
       "      <td>12200 Katy Fwy</td>\n",
       "      <td>Houston</td>\n",
       "      <td>TX</td>\n",
       "      <td>77079</td>\n",
       "      <td>US</td>\n",
       "      <td>SG_BRAND_3a24904ae5256f6c04dd74b14382ef3b</td>\n",
       "      <td>Infiniti</td>\n",
       "      <td>NaN</td>\n",
       "      <td>Automobile Dealers</td>\n",
       "      <td>New Car Dealers</td>\n",
       "      <td>441110.0</td>\n",
       "      <td>29.786320</td>\n",
       "      <td>-95.601913</td>\n",
       "      <td>1.281590e+10</td>\n",
       "      <td>{ \"Mon\": [[\"7:00\", \"20:00\"]], \"Tue\": [[\"7:00\",...</td>\n",
       "      <td>NaN</td>\n",
       "    </tr>\n",
       "  </tbody>\n",
       "</table>\n",
       "<p>400 rows × 21 columns</p>\n",
       "</div>"
      ],
      "text/plain": [
       "                      safegraph_place_id  \\\n",
       "0    sg:4cc165ff43ec4ce29e9dbe0732267ab1   \n",
       "1    sg:e8af4e248bbf41549aaec725d038ee42   \n",
       "2    sg:01cebfb757224fbd8151ee6ac6b0d679   \n",
       "3    sg:73e44ffdbcb24363bf01b6158373b9f3   \n",
       "4    sg:360d88ef2ced4be180ea24290b9f9df4   \n",
       "..                                   ...   \n",
       "395  sg:b65354230b3842c8b23144a0997a62d7   \n",
       "396  sg:d8e741af0be848d899ac3d7e8dd382ca   \n",
       "397  sg:18b3905a242544279285792988b7e502   \n",
       "398  sg:96ff5ed1e94843658944043e3843ebf5   \n",
       "399  sg:cdf2cf07c99b4493bf572cb45387e486   \n",
       "\n",
       "                                         visits_by_day  \\\n",
       "0    [6140, 6399, 6752, 7324, 7255, 5874, 7496, 700...   \n",
       "1    [2553, 2568, 2729, 2939, 2940, 2541, 3215, 290...   \n",
       "2    [2122, 2538, 2558, 2641, 2911, 3741, 2484, 245...   \n",
       "3    [2400, 2404, 2536, 2762, 2746, 2367, 3016, 268...   \n",
       "4    [2173, 2256, 2383, 2704, 2610, 1822, 2612, 248...   \n",
       "..                                                 ...   \n",
       "395  [7, 204, 158, 162, 178, 74, 3, 165, 184, 185, ...   \n",
       "396  [88, 109, 121, 111, 115, 147, 137, 118, 121, 1...   \n",
       "397  [78, 89, 72, 94, 92, 138, 121, 85, 79, 97, 93,...   \n",
       "398  [75, 90, 84, 91, 88, 85, 85, 84, 64, 71, 80, 8...   \n",
       "399  [133, 175, 184, 197, 90, 13, 4, 173, 184, 175,...   \n",
       "\n",
       "                                   visits_by_each_hour  raw_visit_counts  \\\n",
       "0    [83, 49, 41, 60, 187, 301, 161, 151, 257, 112,...           3574654   \n",
       "1    [21, 23, 21, 14, 52, 108, 53, 56, 130, 38, 119...           1427339   \n",
       "2    [6, 5, 12, 4, 7, 20, 31, 40, 50, 58, 64, 97, 8...           1357595   \n",
       "3    [15, 18, 16, 13, 47, 97, 49, 54, 123, 37, 114,...           1329978   \n",
       "4    [36, 9, 11, 20, 71, 108, 63, 92, 44, 83, 68, 6...           1222177   \n",
       "..                                                 ...               ...   \n",
       "395  [0, 0, 0, 0, 0, 0, 0, 0, 0, 0, 0, 0, 0, 4, 1, ...             48299   \n",
       "396  [0, 0, 1, 0, 0, 0, 1, 1, 1, 4, 2, 1, 1, 12, 6,...             48077   \n",
       "397  [0, 0, 0, 0, 0, 0, 2, 0, 3, 2, 5, 3, 1, 7, 9, ...             48007   \n",
       "398  [1, 0, 0, 0, 0, 0, 0, 0, 2, 1, 2, 2, 4, 7, 9, ...             47828   \n",
       "399  [0, 0, 0, 0, 2, 1, 9, 11, 7, 5, 5, 0, 3, 60, 5...             47677   \n",
       "\n",
       "                                       location_name  \\\n",
       "0               George Bush Intercontinental Airport   \n",
       "1                  American Express Centurion Lounge   \n",
       "2                                         Simon mall   \n",
       "3    George Bush Intercontinental Airport Terminal E   \n",
       "4                            William P Hobby Airport   \n",
       "..                                               ...   \n",
       "395                                       Ulrich Int   \n",
       "396                               West U Marketplace   \n",
       "397                                           Target   \n",
       "398                                           Kroger   \n",
       "399                            WEST HOUSTON INFINITI   \n",
       "\n",
       "                    street_address     city region  postal_code  \\\n",
       "0               2800 N Terminal Rd  Houston     TX        77032   \n",
       "1    2800 N Terminal Rd Terminal D  Houston     TX        77032   \n",
       "2               5085 Westheimer Rd  Houston     TX        77056   \n",
       "3       3950 S Terminal Terminal E  Houston     TX        77066   \n",
       "4                7800 Airport Blvd  Houston     TX        77061   \n",
       "..                             ...      ...    ...          ...   \n",
       "395        10103 Spring Cypress Rd  Houston     TX        77070   \n",
       "396             4004 Bellaire Blvd  Houston     TX        77025   \n",
       "397       300 Meyerland Plaza Mall  Houston     TX        77096   \n",
       "398                 12222 Jones Rd  Houston     TX        77070   \n",
       "399                 12200 Katy Fwy  Houston     TX        77079   \n",
       "\n",
       "    iso_country_code                        safegraph_brand_ids      brands  \\\n",
       "0                 US                                        NaN         NaN   \n",
       "1                 US                                        NaN         NaN   \n",
       "2                 US  SG_BRAND_0a3c99595c9d3fddfece9c4e7607e5b3  Simon mall   \n",
       "3                 US                                        NaN         NaN   \n",
       "4                 US                                        NaN         NaN   \n",
       "..               ...                                        ...         ...   \n",
       "395               US                                        NaN         NaN   \n",
       "396               US                                        NaN         NaN   \n",
       "397               US  SG_BRAND_42aefbae01d2dfd981f7da7d823d689e      Target   \n",
       "398               US                  SG_BRAND_1f852a23da4b7250      Kroger   \n",
       "399               US  SG_BRAND_3a24904ae5256f6c04dd74b14382ef3b    Infiniti   \n",
       "\n",
       "               parent_safegraph_place_id  \\\n",
       "0                                    NaN   \n",
       "1    sg:f4a955def8ca49fd87153af82a237245   \n",
       "2                                    NaN   \n",
       "3    sg:7dea7a58e8424b22ba0d0b96bc1b6cc9   \n",
       "4                                    NaN   \n",
       "..                                   ...   \n",
       "395                                  NaN   \n",
       "396                                  NaN   \n",
       "397  sg:2a7741c069e84897b44a806033428829   \n",
       "398  sg:5982c58cfc3b4c9f82a9be4e29517b06   \n",
       "399                                  NaN   \n",
       "\n",
       "                                  top_category  \\\n",
       "0    Support Activities for Air Transportation   \n",
       "1                            Gasoline Stations   \n",
       "2                       Lessors of Real Estate   \n",
       "3                       Traveler Accommodation   \n",
       "4    Support Activities for Air Transportation   \n",
       "..                                         ...   \n",
       "395           Elementary and Secondary Schools   \n",
       "396                     Lessors of Real Estate   \n",
       "397                          Department Stores   \n",
       "398                             Grocery Stores   \n",
       "399                         Automobile Dealers   \n",
       "\n",
       "                                          sub_category  naics_code   latitude  \\\n",
       "0                             Other Airport Operations    488119.0  29.981382   \n",
       "1            Gasoline Stations with Convenience Stores    447110.0  29.987829   \n",
       "2                                                Malls    531120.0  29.738954   \n",
       "3             Hotels (except Casino Hotels) and Motels    721110.0  29.986670   \n",
       "4                             Other Airport Operations    488119.0  29.646145   \n",
       "..                                                 ...         ...        ...   \n",
       "395                   Elementary and Secondary Schools    611110.0  30.019021   \n",
       "396                                              Malls    531120.0  29.706636   \n",
       "397                                  Department Stores    452210.0  29.687158   \n",
       "398  Supermarkets and Other Grocery (except Conveni...    445110.0  29.951781   \n",
       "399                                    New Car Dealers    441110.0  29.786320   \n",
       "\n",
       "     longitude  phone_number  \\\n",
       "0   -95.322839           NaN   \n",
       "1   -95.334916           NaN   \n",
       "2   -95.463803           NaN   \n",
       "3   -95.337942           NaN   \n",
       "4   -95.277014  1.713640e+10   \n",
       "..         ...           ...   \n",
       "395 -95.572301  1.832376e+10   \n",
       "396 -95.441673           NaN   \n",
       "397 -95.462103           NaN   \n",
       "398 -95.582386  1.832913e+10   \n",
       "399 -95.601913  1.281590e+10   \n",
       "\n",
       "                                            open_hours category_tags  \n",
       "0                                                  NaN           NaN  \n",
       "1    { \"Mon\": [[\"5:30\", \"21:00\"]], \"Tue\": [[\"5:30\",...           NaN  \n",
       "2    { \"Mon\": [[\"10:00\", \"19:00\"]], \"Tue\": [[\"10:00...           NaN  \n",
       "3                                                  NaN           NaN  \n",
       "4                                                  NaN           NaN  \n",
       "..                                                 ...           ...  \n",
       "395                                                NaN           NaN  \n",
       "396                                                NaN           NaN  \n",
       "397  { \"Mon\": [[\"8:00\", \"23:00\"]], \"Tue\": [[\"8:00\",...           NaN  \n",
       "398  { \"Mon\": [[\"6:00\", \"24:00\"]], \"Tue\": [[\"6:00\",...           NaN  \n",
       "399  { \"Mon\": [[\"7:00\", \"20:00\"]], \"Tue\": [[\"7:00\",...           NaN  \n",
       "\n",
       "[400 rows x 21 columns]"
      ]
     },
     "execution_count": 4,
     "metadata": {},
     "output_type": "execute_result"
    }
   ],
   "source": [
    "df"
   ]
  },
  {
   "cell_type": "code",
   "execution_count": 5,
   "metadata": {},
   "outputs": [],
   "source": [
    "def get_distances(coords):\n",
    "    num_points = coords.shape[0]\n",
    "    distances = np.array([[np.linalg.norm(i-j) for j in coords] for i in coords])\n",
    "    return distances"
   ]
  },
  {
   "cell_type": "code",
   "execution_count": 6,
   "metadata": {},
   "outputs": [],
   "source": [
    "def gaussian_kern(arr, thres=1):\n",
    "    res = arr.copy()\n",
    "    res[res<=thres] = np.exp(-(res[res<=thres]**2)/(np.nanstd(arr)**2))\n",
    "    res[np.isnan(arr)] = 0\n",
    "    res[arr>thres] = 0\n",
    "    return res"
   ]
  },
  {
   "cell_type": "code",
   "execution_count": 7,
   "metadata": {},
   "outputs": [
    {
     "data": {
      "text/plain": [
       "array([1.        , 0.99945533, 0.        , 0.99925591, 0.        ,\n",
       "       0.        , 0.        , 0.9977724 , 0.        , 0.99956618,\n",
       "       0.99843019, 0.        , 0.        , 0.        , 0.        ,\n",
       "       0.8613359 , 0.        , 0.        , 0.        , 0.8339492 ,\n",
       "       0.        , 0.96435911, 0.        , 0.86798093, 0.        ,\n",
       "       0.        , 0.        , 0.86685492, 0.        , 0.        ,\n",
       "       0.85893167, 0.        , 0.84394822, 0.        , 0.        ,\n",
       "       0.85217214, 0.        , 0.        , 0.        , 0.        ,\n",
       "       0.        , 0.85525912, 0.        , 0.        , 0.85106528,\n",
       "       0.        , 0.87478512, 0.86664219, 0.        , 0.        ,\n",
       "       0.        , 0.        , 0.86514126, 0.        , 0.        ,\n",
       "       0.        , 0.        , 0.        , 0.        , 0.        ,\n",
       "       0.92617109, 0.84202387, 0.        , 0.83853297, 0.        ,\n",
       "       0.        , 0.90306411, 0.85677883, 0.86148734, 0.        ,\n",
       "       0.        , 0.        , 0.        , 0.91258465, 0.        ,\n",
       "       0.86108038, 0.96403337, 0.85569739, 0.        , 0.        ,\n",
       "       0.        , 0.        , 0.        , 0.        , 0.85301594,\n",
       "       0.        , 0.85765788, 0.        , 0.        , 0.        ,\n",
       "       0.90240661, 0.        , 0.        , 0.        , 0.84582706,\n",
       "       0.85898714, 0.        , 0.86219077, 0.        , 0.99884952,\n",
       "       0.        , 0.        , 0.84010749, 0.        , 0.        ,\n",
       "       0.        , 0.84870302, 0.91212299, 0.86564141, 0.8440228 ,\n",
       "       0.94538763, 0.        , 0.85410427, 0.        , 0.        ,\n",
       "       0.82947279, 0.        , 0.85610328, 0.        , 0.        ,\n",
       "       0.        , 0.86642741, 0.88147284, 0.        , 0.        ,\n",
       "       0.        , 0.85922857, 0.        , 0.93566605, 0.86853803,\n",
       "       0.        , 0.86523279, 0.83885049, 0.84593455, 0.95486137,\n",
       "       0.        , 0.85972614, 0.95487109, 0.        , 0.        ,\n",
       "       0.        , 0.95374312, 0.99916925, 0.        , 0.        ,\n",
       "       0.        , 0.        , 0.        , 0.91902794, 0.84205388,\n",
       "       0.        , 0.        , 0.        , 0.82776191, 0.        ,\n",
       "       0.        , 0.        , 0.        , 0.        , 0.        ,\n",
       "       0.9886759 , 0.87322336, 0.91921873, 0.        , 0.        ,\n",
       "       0.        , 0.        , 0.        , 0.        , 0.85914216,\n",
       "       0.        , 0.        , 0.        , 0.97079284, 0.86984715,\n",
       "       0.85883386, 0.        , 0.86227479, 0.        , 0.        ,\n",
       "       0.8470153 , 0.        , 0.        , 0.        , 0.86117347,\n",
       "       0.        , 0.85898957, 0.99917239, 0.        , 0.        ,\n",
       "       0.94631238, 0.        , 0.        , 0.86507341, 0.        ,\n",
       "       0.        , 0.83767919, 0.85527254, 0.        , 0.96808654,\n",
       "       0.        , 0.        , 0.        , 0.        , 0.87722937,\n",
       "       0.        , 0.        , 0.        , 0.        , 0.82656246,\n",
       "       0.        , 0.        , 0.        , 0.        , 0.        ,\n",
       "       0.        , 0.        , 0.        , 0.85170501, 0.        ,\n",
       "       0.        , 0.87308737, 0.        , 0.        , 0.        ,\n",
       "       0.        , 0.        , 0.9123266 , 0.        , 0.931155  ,\n",
       "       0.98170815, 0.86205592, 0.        , 0.        , 0.        ,\n",
       "       0.        , 0.84159905, 0.        , 0.        , 0.        ,\n",
       "       0.84501125, 0.8961815 , 0.        , 0.85411538, 0.        ,\n",
       "       0.        , 0.        , 0.        , 0.97696637, 0.        ,\n",
       "       0.        , 0.        , 0.        , 0.        , 0.90273815,\n",
       "       0.85778567, 0.        , 0.        , 0.85385276, 0.        ,\n",
       "       0.        , 0.        , 0.        , 0.85011382, 0.8301688 ,\n",
       "       0.89935663, 0.        , 0.        , 0.        , 0.89544048,\n",
       "       0.        , 0.86298624, 0.85634816, 0.        , 0.        ,\n",
       "       0.86119334, 0.        , 0.        , 0.87282819, 0.        ,\n",
       "       0.85792469, 0.        , 0.        , 0.        , 0.        ,\n",
       "       0.        , 0.85292609, 0.        , 0.        , 0.83588015,\n",
       "       0.        , 0.        , 0.82646304, 0.        , 0.        ,\n",
       "       0.        , 0.8314059 , 0.        , 0.84376298, 0.        ,\n",
       "       0.85629142, 0.96648861, 0.        , 0.        , 0.        ,\n",
       "       0.        , 0.92264056, 0.90093835, 0.        , 0.85564021,\n",
       "       0.90367551, 0.90038463, 0.82966374, 0.87065935, 0.        ,\n",
       "       0.87565365, 0.        , 0.        , 0.98488123, 0.86811307,\n",
       "       0.        , 0.96275772, 0.        , 0.        , 0.        ,\n",
       "       0.82947071, 0.97686253, 0.        , 0.88379423, 0.        ,\n",
       "       0.85544871, 0.95443445, 0.9544328 , 0.        , 0.        ,\n",
       "       0.86199451, 0.        , 0.        , 0.86754991, 0.94331931,\n",
       "       0.85776119, 0.        , 0.96486185, 0.        , 0.85344314,\n",
       "       0.        , 0.        , 0.        , 0.        , 0.        ,\n",
       "       0.86571894, 0.85263073, 0.        , 0.93802296, 0.        ,\n",
       "       0.85982362, 0.98850903, 0.        , 0.        , 0.        ,\n",
       "       0.        , 0.        , 0.        , 0.9687596 , 0.86025465,\n",
       "       0.        , 0.96362553, 0.        , 0.85892915, 0.97352977,\n",
       "       0.        , 0.88152183, 0.        , 0.        , 0.        ,\n",
       "       0.        , 0.        , 0.        , 0.        , 0.        ,\n",
       "       0.86791134, 0.89158591, 0.97644557, 0.        , 0.91954237,\n",
       "       0.        , 0.        , 0.        , 0.        , 0.85061324,\n",
       "       0.86236339, 0.88407897, 0.86510641, 0.        , 0.        ,\n",
       "       0.83108512, 0.        , 0.        , 0.        , 0.        ])"
      ]
     },
     "execution_count": 7,
     "metadata": {},
     "output_type": "execute_result"
    }
   ],
   "source": [
    "coords = df[['latitude', 'longitude']].to_numpy()\n",
    "distances = get_distances(coords)\n",
    "thres = np.nanmean(distances)\n",
    "adj_mat = gaussian_kern(distances, thres=thres)\n",
    "adj_mat[0]"
   ]
  },
  {
   "cell_type": "code",
   "execution_count": 8,
   "metadata": {},
   "outputs": [],
   "source": [
    "data= pd.DataFrame(df[\"visits_by_each_hour\"].to_list()).T\n",
    "\n",
    "days = int(data.shape[0] / 24)\n",
    "\n",
    "train_days = int(TRAIN_RATIO * days)\n",
    "valid_days = int(days*VALID_RATIO)\n",
    "test_days = days-train_days-valid_days\n",
    "\n",
    "train_data = data[:train_days*24].to_numpy()\n",
    "valid_data = data[train_days*24:(train_days + valid_days)*24].to_numpy()\n",
    "test_data = data[(train_days + valid_days)*24:(train_days + valid_days+test_days)*24].to_numpy()"
   ]
  },
  {
   "cell_type": "code",
   "execution_count": 9,
   "metadata": {},
   "outputs": [],
   "source": [
    "def get_unsqueezed(arr):\n",
    "    time_points = arr.shape[0]\n",
    "    nodes_num = arr.shape[-1]\n",
    "    res = arr.copy()\n",
    "    res = np.expand_dims(arr, 2)\n",
    "    res = res.reshape((nodes_num, 1, time_points))\n",
    "    return res"
   ]
  },
  {
   "cell_type": "code",
   "execution_count": 10,
   "metadata": {},
   "outputs": [],
   "source": [
    "def z_normalize(arr):\n",
    "    means = np.mean(arr, axis=(0, 2))\n",
    "    res = arr - means.reshape(1, -1, 1)\n",
    "    stds = np.std(res, axis=(0, 2))\n",
    "    res = res / stds.reshape(1, -1, 1)\n",
    "    return res"
   ]
  },
  {
   "cell_type": "code",
   "execution_count": 11,
   "metadata": {},
   "outputs": [
    {
     "data": {
      "text/plain": [
       "(array([[ 83,  21,   6, ...,   0,   1,   0],\n",
       "        [ 49,  23,   5, ...,   0,   0,   0],\n",
       "        [ 41,  21,  12, ...,   0,   0,   0],\n",
       "        ...,\n",
       "        [174,  73,  22, ...,   0,   0,   0],\n",
       "        [111,  56,  22, ...,   0,   1,   0],\n",
       "        [131,  25,   9, ...,   0,   0,   0]]),\n",
       " (6720, 400))"
      ]
     },
     "execution_count": 11,
     "metadata": {},
     "output_type": "execute_result"
    }
   ],
   "source": [
    "train_data, train_data.shape"
   ]
  },
  {
   "cell_type": "code",
   "execution_count": 12,
   "metadata": {},
   "outputs": [
    {
     "data": {
      "text/plain": [
       "array([[[ 2.16648252,  0.29337531, -0.1597958 , ..., -0.06916158,\n",
       "         -0.00873876, -0.25043002]],\n",
       "\n",
       "       [[-0.03895017, -0.12958439,  0.05168405, ..., -0.06916158,\n",
       "         -0.25043002, -0.09937298]],\n",
       "\n",
       "       [[-0.22021861, -0.31085283, -0.22021861, ..., -0.25043002,\n",
       "         -0.31085283, -0.31085283]],\n",
       "\n",
       "       ...,\n",
       "\n",
       "       [[-0.34106424, -0.22021861, -0.28064142, ..., -0.03895017,\n",
       "          0.32358671,  0.11210687]],\n",
       "\n",
       "       [[-0.06916158, -0.03895017, -0.1597958 , ...,  0.56527797,\n",
       "         -0.12958439, -0.1900072 ]],\n",
       "\n",
       "       [[-0.34106424, -0.28064142, -0.31085283, ..., -0.34106424,\n",
       "         -0.34106424, -0.34106424]]])"
      ]
     },
     "execution_count": 12,
     "metadata": {},
     "output_type": "execute_result"
    }
   ],
   "source": [
    "td = z_normalize(get_unsqueezed(train_data))\n",
    "td"
   ]
  },
  {
   "cell_type": "code",
   "execution_count": 13,
   "metadata": {},
   "outputs": [
    {
     "data": {
      "text/plain": [
       "(torch.Size([400, 400]), torch.Size([400, 1, 6720]))"
      ]
     },
     "execution_count": 13,
     "metadata": {},
     "output_type": "execute_result"
    }
   ],
   "source": [
    "A = torch.from_numpy(adj_mat)\n",
    "X = torch.from_numpy(td)\n",
    "A.shape, X.shape"
   ]
  },
  {
   "cell_type": "code",
   "execution_count": 14,
   "metadata": {},
   "outputs": [
    {
     "data": {
      "text/plain": [
       "(tensor([[  0,   0,   0,  ..., 399, 399, 399],\n",
       "         [  0,   1,   3,  ..., 397, 398, 399]]),\n",
       " tensor([1.0000, 0.9995, 0.9993,  ..., 0.9181, 0.9225, 1.0000],\n",
       "        dtype=torch.float64))"
      ]
     },
     "execution_count": 14,
     "metadata": {},
     "output_type": "execute_result"
    }
   ],
   "source": [
    "edge_indices, values = dense_to_sparse(A)\n",
    "edge_indices, values"
   ]
  },
  {
   "cell_type": "code",
   "execution_count": 15,
   "metadata": {},
   "outputs": [],
   "source": [
    "edges = edge_indices.numpy()\n",
    "edge_weights = values.numpy()"
   ]
  },
  {
   "cell_type": "markdown",
   "metadata": {},
   "source": [
    "### Generate observations"
   ]
  },
  {
   "cell_type": "code",
   "execution_count": 16,
   "metadata": {},
   "outputs": [],
   "source": [
    "num_timesteps_in = WINDOW_SIZE\n",
    "num_timesteps_out = HORIZON"
   ]
  },
  {
   "cell_type": "code",
   "execution_count": 17,
   "metadata": {},
   "outputs": [
    {
     "name": "stdout",
     "output_type": "stream",
     "text": [
      "len: 6691\n",
      "[(0, 30), (1, 31), (2, 32), (3, 33), (4, 34)]\n",
      "...\n",
      "[(6689, 6719), (6690, 6720)]\n"
     ]
    }
   ],
   "source": [
    "indices = [\n",
    "    (i, i + (num_timesteps_in + num_timesteps_out))\n",
    "    for i in range(X.shape[2] - (num_timesteps_in + num_timesteps_out) + 1)\n",
    "]\n",
    "print('len:', len(indices))\n",
    "print(indices[:5])\n",
    "print('...')\n",
    "print(indices[-2:])"
   ]
  },
  {
   "cell_type": "code",
   "execution_count": 18,
   "metadata": {},
   "outputs": [
    {
     "data": {
      "text/plain": [
       "6691"
      ]
     },
     "execution_count": 18,
     "metadata": {},
     "output_type": "execute_result"
    }
   ],
   "source": [
    "features, target = [], []\n",
    "for i, j in indices:\n",
    "    features.append((X[:, :, i : i + num_timesteps_in]).numpy())\n",
    "    target.append((X[:, 0, i + num_timesteps_in : j]).numpy())\n",
    "len(features)"
   ]
  },
  {
   "cell_type": "code",
   "execution_count": 19,
   "metadata": {},
   "outputs": [],
   "source": [
    "dataset = StaticGraphTemporalSignal(\n",
    "    edges, edge_weights, features, target\n",
    ")"
   ]
  },
  {
   "cell_type": "code",
   "execution_count": 20,
   "metadata": {},
   "outputs": [
    {
     "data": {
      "text/plain": [
       "<torch_geometric_temporal.signal.static_graph_temporal_signal.StaticGraphTemporalSignal at 0x7f190f8c38e0>"
      ]
     },
     "execution_count": 20,
     "metadata": {},
     "output_type": "execute_result"
    }
   ],
   "source": [
    "dataset"
   ]
  },
  {
   "cell_type": "code",
   "execution_count": 21,
   "metadata": {},
   "outputs": [
    {
     "data": {
      "text/plain": [
       "Data(x=[400, 1, 24], edge_index=[2, 100638], edge_attr=[100638], y=[400, 6])"
      ]
     },
     "execution_count": 21,
     "metadata": {},
     "output_type": "execute_result"
    }
   ],
   "source": [
    "dataset_iter = iter(dataset)\n",
    "next(dataset_iter)"
   ]
  },
  {
   "cell_type": "code",
   "execution_count": 22,
   "metadata": {},
   "outputs": [
    {
     "data": {
      "text/plain": [
       "[tensor([[[ 2.1665,  0.2934, -0.1598,  ..., -0.2202, -0.1598, -0.1900]],\n",
       " \n",
       "         [[-0.0390, -0.1296,  0.0517,  ..., -0.2202, -0.1296, -0.3109]],\n",
       " \n",
       "         [[-0.2202, -0.3109, -0.2202,  ..., -0.1296, -0.3411, -0.0692]],\n",
       " \n",
       "         ...,\n",
       " \n",
       "         [[-0.3411, -0.2202, -0.2806,  ..., -0.2202,  0.0819, -0.3109]],\n",
       " \n",
       "         [[-0.0692, -0.0390, -0.1598,  ..., -0.2504,  0.2632,  0.1423]],\n",
       " \n",
       "         [[-0.3411, -0.2806, -0.3109,  ..., -0.3411, -0.2504, -0.2504]]]),\n",
       " tensor([[[ 0.2934, -0.1598,  0.1121,  ..., -0.1598, -0.1900, -0.3411]],\n",
       " \n",
       "         [[-0.1296,  0.0517, -0.1900,  ..., -0.1296, -0.3109, -0.0390]],\n",
       " \n",
       "         [[-0.3109, -0.2202,  0.7163,  ..., -0.3411, -0.0692, -0.0087]],\n",
       " \n",
       "         ...,\n",
       " \n",
       "         [[-0.2202, -0.2806, -0.1900,  ...,  0.0819, -0.3109, -0.3109]],\n",
       " \n",
       "         [[-0.0390, -0.1598, -0.1598,  ...,  0.2632,  0.1423, -0.2806]],\n",
       " \n",
       "         [[-0.2806, -0.3109, -0.2504,  ..., -0.2504, -0.2504, -0.3411]]]),\n",
       " tensor([[[-0.1598,  0.1121,  0.7465,  ..., -0.1900, -0.3411, -0.3109]],\n",
       " \n",
       "         [[ 0.0517, -0.1900, -0.1598,  ..., -0.3109, -0.0390, -0.1900]],\n",
       " \n",
       "         [[-0.2202,  0.7163, -0.2504,  ..., -0.0692, -0.0087, -0.2202]],\n",
       " \n",
       "         ...,\n",
       " \n",
       "         [[-0.2806, -0.1900, -0.2202,  ..., -0.3109, -0.3109, -0.3109]],\n",
       " \n",
       "         [[-0.1598, -0.1598,  0.3236,  ...,  0.1423, -0.2806,  0.8070]],\n",
       " \n",
       "         [[-0.3109, -0.2504, -0.3411,  ..., -0.2504, -0.3411, -0.3411]]])]"
      ]
     },
     "execution_count": 22,
     "metadata": {},
     "output_type": "execute_result"
    }
   ],
   "source": [
    "[bucket.x for bucket in list(dataset)[:3]]"
   ]
  },
  {
   "cell_type": "code",
   "execution_count": 23,
   "metadata": {},
   "outputs": [],
   "source": [
    "from torch_geometric_temporal.signal import temporal_signal_split\n"
   ]
  },
  {
   "cell_type": "markdown",
   "metadata": {},
   "source": [
    "### Testing modesl"
   ]
  },
  {
   "cell_type": "code",
   "execution_count": 24,
   "metadata": {},
   "outputs": [],
   "source": [
    "import torch\n",
    "import torch.nn.functional as F\n",
    "from torch_geometric_temporal.nn.recurrent import A3TGCN\n",
    "\n",
    "class A3TGCN_Temporal(torch.nn.Module):\n",
    "    def __init__(self, node_features, periods):\n",
    "        super(A3TGCN_Temporal, self).__init__()\n",
    "        # Attention Temporal Graph Convolutional Cell\n",
    "        self.tgnn = A3TGCN(in_channels=node_features, \n",
    "                           out_channels=128, \n",
    "                           periods=periods)\n",
    "        # Equals single-shot prediction\n",
    "        self.linear = torch.nn.Linear(128, periods)\n",
    "\n",
    "    def forward(self, x, edge_index):\n",
    "        \"\"\"\n",
    "        x = Node features for T time steps\n",
    "        edge_index = Graph edge indices\n",
    "        \"\"\"\n",
    "        h = self.tgnn(x, edge_index)\n",
    "        h = F.relu(h)\n",
    "        h = self.linear(h)\n",
    "        return h"
   ]
  },
  {
   "cell_type": "code",
   "execution_count": 25,
   "metadata": {},
   "outputs": [
    {
     "data": {
      "text/plain": [
       "A3TGCN_Temporal(\n",
       "  (tgnn): A3TGCN(\n",
       "    (_base_tgcn): TGCN(\n",
       "      (conv_z): GCNConv(1, 128)\n",
       "      (linear_z): Linear(in_features=256, out_features=128, bias=True)\n",
       "      (conv_r): GCNConv(1, 128)\n",
       "      (linear_r): Linear(in_features=256, out_features=128, bias=True)\n",
       "      (conv_h): GCNConv(1, 128)\n",
       "      (linear_h): Linear(in_features=256, out_features=128, bias=True)\n",
       "    )\n",
       "  )\n",
       "  (linear): Linear(in_features=128, out_features=6, bias=True)\n",
       ")"
      ]
     },
     "execution_count": 25,
     "metadata": {},
     "output_type": "execute_result"
    }
   ],
   "source": [
    "A3TGCN_Temporal(node_features=1, periods=HORIZON)"
   ]
  },
  {
   "cell_type": "code",
   "execution_count": 27,
   "metadata": {},
   "outputs": [
    {
     "name": "stdout",
     "output_type": "stream",
     "text": [
      "Running training...\n"
     ]
    },
    {
     "ename": "KeyboardInterrupt",
     "evalue": "",
     "output_type": "error",
     "traceback": [
      "\u001b[0;31m---------------------------------------------------------------------------\u001b[0m",
      "\u001b[0;31mKeyboardInterrupt\u001b[0m                         Traceback (most recent call last)",
      "Cell \u001b[0;32mIn [27], line 17\u001b[0m\n\u001b[1;32m     15\u001b[0m snapshot \u001b[39m=\u001b[39m snapshot\u001b[39m.\u001b[39mto(device)\n\u001b[1;32m     16\u001b[0m \u001b[39m# Get model predictions\u001b[39;00m\n\u001b[0;32m---> 17\u001b[0m y_hat \u001b[39m=\u001b[39m model(snapshot\u001b[39m.\u001b[39;49mx, snapshot\u001b[39m.\u001b[39;49medge_index)\n\u001b[1;32m     18\u001b[0m \u001b[39m# Mean squared error\u001b[39;00m\n\u001b[1;32m     19\u001b[0m loss \u001b[39m=\u001b[39m loss \u001b[39m+\u001b[39m torch\u001b[39m.\u001b[39mmean((y_hat\u001b[39m-\u001b[39msnapshot\u001b[39m.\u001b[39my)\u001b[39m*\u001b[39m\u001b[39m*\u001b[39m\u001b[39m2\u001b[39m) \n",
      "File \u001b[0;32m~/anaconda3/envs/pyg/lib/python3.10/site-packages/torch/nn/modules/module.py:1190\u001b[0m, in \u001b[0;36mModule._call_impl\u001b[0;34m(self, *input, **kwargs)\u001b[0m\n\u001b[1;32m   1186\u001b[0m \u001b[39m# If we don't have any hooks, we want to skip the rest of the logic in\u001b[39;00m\n\u001b[1;32m   1187\u001b[0m \u001b[39m# this function, and just call forward.\u001b[39;00m\n\u001b[1;32m   1188\u001b[0m \u001b[39mif\u001b[39;00m \u001b[39mnot\u001b[39;00m (\u001b[39mself\u001b[39m\u001b[39m.\u001b[39m_backward_hooks \u001b[39mor\u001b[39;00m \u001b[39mself\u001b[39m\u001b[39m.\u001b[39m_forward_hooks \u001b[39mor\u001b[39;00m \u001b[39mself\u001b[39m\u001b[39m.\u001b[39m_forward_pre_hooks \u001b[39mor\u001b[39;00m _global_backward_hooks\n\u001b[1;32m   1189\u001b[0m         \u001b[39mor\u001b[39;00m _global_forward_hooks \u001b[39mor\u001b[39;00m _global_forward_pre_hooks):\n\u001b[0;32m-> 1190\u001b[0m     \u001b[39mreturn\u001b[39;00m forward_call(\u001b[39m*\u001b[39;49m\u001b[39minput\u001b[39;49m, \u001b[39m*\u001b[39;49m\u001b[39m*\u001b[39;49mkwargs)\n\u001b[1;32m   1191\u001b[0m \u001b[39m# Do not call functions when jit is used\u001b[39;00m\n\u001b[1;32m   1192\u001b[0m full_backward_hooks, non_full_backward_hooks \u001b[39m=\u001b[39m [], []\n",
      "Cell \u001b[0;32mIn [24], line 20\u001b[0m, in \u001b[0;36mA3TGCN_Temporal.forward\u001b[0;34m(self, x, edge_index)\u001b[0m\n\u001b[1;32m     15\u001b[0m \u001b[39mdef\u001b[39;00m \u001b[39mforward\u001b[39m(\u001b[39mself\u001b[39m, x, edge_index):\n\u001b[1;32m     16\u001b[0m     \u001b[39m\"\"\"\u001b[39;00m\n\u001b[1;32m     17\u001b[0m \u001b[39m    x = Node features for T time steps\u001b[39;00m\n\u001b[1;32m     18\u001b[0m \u001b[39m    edge_index = Graph edge indices\u001b[39;00m\n\u001b[1;32m     19\u001b[0m \u001b[39m    \"\"\"\u001b[39;00m\n\u001b[0;32m---> 20\u001b[0m     h \u001b[39m=\u001b[39m \u001b[39mself\u001b[39;49m\u001b[39m.\u001b[39;49mtgnn(x, edge_index)\n\u001b[1;32m     21\u001b[0m     h \u001b[39m=\u001b[39m F\u001b[39m.\u001b[39mrelu(h)\n\u001b[1;32m     22\u001b[0m     h \u001b[39m=\u001b[39m \u001b[39mself\u001b[39m\u001b[39m.\u001b[39mlinear(h)\n",
      "File \u001b[0;32m~/anaconda3/envs/pyg/lib/python3.10/site-packages/torch/nn/modules/module.py:1190\u001b[0m, in \u001b[0;36mModule._call_impl\u001b[0;34m(self, *input, **kwargs)\u001b[0m\n\u001b[1;32m   1186\u001b[0m \u001b[39m# If we don't have any hooks, we want to skip the rest of the logic in\u001b[39;00m\n\u001b[1;32m   1187\u001b[0m \u001b[39m# this function, and just call forward.\u001b[39;00m\n\u001b[1;32m   1188\u001b[0m \u001b[39mif\u001b[39;00m \u001b[39mnot\u001b[39;00m (\u001b[39mself\u001b[39m\u001b[39m.\u001b[39m_backward_hooks \u001b[39mor\u001b[39;00m \u001b[39mself\u001b[39m\u001b[39m.\u001b[39m_forward_hooks \u001b[39mor\u001b[39;00m \u001b[39mself\u001b[39m\u001b[39m.\u001b[39m_forward_pre_hooks \u001b[39mor\u001b[39;00m _global_backward_hooks\n\u001b[1;32m   1189\u001b[0m         \u001b[39mor\u001b[39;00m _global_forward_hooks \u001b[39mor\u001b[39;00m _global_forward_pre_hooks):\n\u001b[0;32m-> 1190\u001b[0m     \u001b[39mreturn\u001b[39;00m forward_call(\u001b[39m*\u001b[39;49m\u001b[39minput\u001b[39;49m, \u001b[39m*\u001b[39;49m\u001b[39m*\u001b[39;49mkwargs)\n\u001b[1;32m   1191\u001b[0m \u001b[39m# Do not call functions when jit is used\u001b[39;00m\n\u001b[1;32m   1192\u001b[0m full_backward_hooks, non_full_backward_hooks \u001b[39m=\u001b[39m [], []\n",
      "File \u001b[0;32m~/anaconda3/envs/pyg/lib/python3.10/site-packages/torch_geometric_temporal/nn/recurrent/attentiontemporalgcn.py:76\u001b[0m, in \u001b[0;36mA3TGCN.forward\u001b[0;34m(self, X, edge_index, edge_weight, H)\u001b[0m\n\u001b[1;32m     74\u001b[0m probs \u001b[39m=\u001b[39m torch\u001b[39m.\u001b[39mnn\u001b[39m.\u001b[39mfunctional\u001b[39m.\u001b[39msoftmax(\u001b[39mself\u001b[39m\u001b[39m.\u001b[39m_attention, dim\u001b[39m=\u001b[39m\u001b[39m0\u001b[39m)\n\u001b[1;32m     75\u001b[0m \u001b[39mfor\u001b[39;00m period \u001b[39min\u001b[39;00m \u001b[39mrange\u001b[39m(\u001b[39mself\u001b[39m\u001b[39m.\u001b[39mperiods):\n\u001b[0;32m---> 76\u001b[0m     H_accum \u001b[39m=\u001b[39m H_accum \u001b[39m+\u001b[39m probs[period] \u001b[39m*\u001b[39m \u001b[39mself\u001b[39;49m\u001b[39m.\u001b[39;49m_base_tgcn(\n\u001b[1;32m     77\u001b[0m         X[:, :, period], edge_index, edge_weight, H\n\u001b[1;32m     78\u001b[0m     )\n\u001b[1;32m     79\u001b[0m \u001b[39mreturn\u001b[39;00m H_accum\n",
      "File \u001b[0;32m~/anaconda3/envs/pyg/lib/python3.10/site-packages/torch/nn/modules/module.py:1190\u001b[0m, in \u001b[0;36mModule._call_impl\u001b[0;34m(self, *input, **kwargs)\u001b[0m\n\u001b[1;32m   1186\u001b[0m \u001b[39m# If we don't have any hooks, we want to skip the rest of the logic in\u001b[39;00m\n\u001b[1;32m   1187\u001b[0m \u001b[39m# this function, and just call forward.\u001b[39;00m\n\u001b[1;32m   1188\u001b[0m \u001b[39mif\u001b[39;00m \u001b[39mnot\u001b[39;00m (\u001b[39mself\u001b[39m\u001b[39m.\u001b[39m_backward_hooks \u001b[39mor\u001b[39;00m \u001b[39mself\u001b[39m\u001b[39m.\u001b[39m_forward_hooks \u001b[39mor\u001b[39;00m \u001b[39mself\u001b[39m\u001b[39m.\u001b[39m_forward_pre_hooks \u001b[39mor\u001b[39;00m _global_backward_hooks\n\u001b[1;32m   1189\u001b[0m         \u001b[39mor\u001b[39;00m _global_forward_hooks \u001b[39mor\u001b[39;00m _global_forward_pre_hooks):\n\u001b[0;32m-> 1190\u001b[0m     \u001b[39mreturn\u001b[39;00m forward_call(\u001b[39m*\u001b[39;49m\u001b[39minput\u001b[39;49m, \u001b[39m*\u001b[39;49m\u001b[39m*\u001b[39;49mkwargs)\n\u001b[1;32m   1191\u001b[0m \u001b[39m# Do not call functions when jit is used\u001b[39;00m\n\u001b[1;32m   1192\u001b[0m full_backward_hooks, non_full_backward_hooks \u001b[39m=\u001b[39m [], []\n",
      "File \u001b[0;32m~/anaconda3/envs/pyg/lib/python3.10/site-packages/torch_geometric_temporal/nn/recurrent/temporalgcn.py:128\u001b[0m, in \u001b[0;36mTGCN.forward\u001b[0;34m(self, X, edge_index, edge_weight, H)\u001b[0m\n\u001b[1;32m    126\u001b[0m Z \u001b[39m=\u001b[39m \u001b[39mself\u001b[39m\u001b[39m.\u001b[39m_calculate_update_gate(X, edge_index, edge_weight, H)\n\u001b[1;32m    127\u001b[0m R \u001b[39m=\u001b[39m \u001b[39mself\u001b[39m\u001b[39m.\u001b[39m_calculate_reset_gate(X, edge_index, edge_weight, H)\n\u001b[0;32m--> 128\u001b[0m H_tilde \u001b[39m=\u001b[39m \u001b[39mself\u001b[39;49m\u001b[39m.\u001b[39;49m_calculate_candidate_state(X, edge_index, edge_weight, H, R)\n\u001b[1;32m    129\u001b[0m H \u001b[39m=\u001b[39m \u001b[39mself\u001b[39m\u001b[39m.\u001b[39m_calculate_hidden_state(Z, H, H_tilde)\n\u001b[1;32m    130\u001b[0m \u001b[39mreturn\u001b[39;00m H\n",
      "File \u001b[0;32m~/anaconda3/envs/pyg/lib/python3.10/site-packages/torch_geometric_temporal/nn/recurrent/temporalgcn.py:95\u001b[0m, in \u001b[0;36mTGCN._calculate_candidate_state\u001b[0;34m(self, X, edge_index, edge_weight, H, R)\u001b[0m\n\u001b[1;32m     94\u001b[0m \u001b[39mdef\u001b[39;00m \u001b[39m_calculate_candidate_state\u001b[39m(\u001b[39mself\u001b[39m, X, edge_index, edge_weight, H, R):\n\u001b[0;32m---> 95\u001b[0m     H_tilde \u001b[39m=\u001b[39m torch\u001b[39m.\u001b[39mcat([\u001b[39mself\u001b[39;49m\u001b[39m.\u001b[39;49mconv_h(X, edge_index, edge_weight), H \u001b[39m*\u001b[39m R], axis\u001b[39m=\u001b[39m\u001b[39m1\u001b[39m)\n\u001b[1;32m     96\u001b[0m     H_tilde \u001b[39m=\u001b[39m \u001b[39mself\u001b[39m\u001b[39m.\u001b[39mlinear_h(H_tilde)\n\u001b[1;32m     97\u001b[0m     H_tilde \u001b[39m=\u001b[39m torch\u001b[39m.\u001b[39mtanh(H_tilde)\n",
      "File \u001b[0;32m~/anaconda3/envs/pyg/lib/python3.10/site-packages/torch/nn/modules/module.py:1190\u001b[0m, in \u001b[0;36mModule._call_impl\u001b[0;34m(self, *input, **kwargs)\u001b[0m\n\u001b[1;32m   1186\u001b[0m \u001b[39m# If we don't have any hooks, we want to skip the rest of the logic in\u001b[39;00m\n\u001b[1;32m   1187\u001b[0m \u001b[39m# this function, and just call forward.\u001b[39;00m\n\u001b[1;32m   1188\u001b[0m \u001b[39mif\u001b[39;00m \u001b[39mnot\u001b[39;00m (\u001b[39mself\u001b[39m\u001b[39m.\u001b[39m_backward_hooks \u001b[39mor\u001b[39;00m \u001b[39mself\u001b[39m\u001b[39m.\u001b[39m_forward_hooks \u001b[39mor\u001b[39;00m \u001b[39mself\u001b[39m\u001b[39m.\u001b[39m_forward_pre_hooks \u001b[39mor\u001b[39;00m _global_backward_hooks\n\u001b[1;32m   1189\u001b[0m         \u001b[39mor\u001b[39;00m _global_forward_hooks \u001b[39mor\u001b[39;00m _global_forward_pre_hooks):\n\u001b[0;32m-> 1190\u001b[0m     \u001b[39mreturn\u001b[39;00m forward_call(\u001b[39m*\u001b[39;49m\u001b[39minput\u001b[39;49m, \u001b[39m*\u001b[39;49m\u001b[39m*\u001b[39;49mkwargs)\n\u001b[1;32m   1191\u001b[0m \u001b[39m# Do not call functions when jit is used\u001b[39;00m\n\u001b[1;32m   1192\u001b[0m full_backward_hooks, non_full_backward_hooks \u001b[39m=\u001b[39m [], []\n",
      "File \u001b[0;32m~/anaconda3/envs/pyg/lib/python3.10/site-packages/torch_geometric/nn/conv/gcn_conv.py:198\u001b[0m, in \u001b[0;36mGCNConv.forward\u001b[0;34m(self, x, edge_index, edge_weight)\u001b[0m\n\u001b[1;32m    195\u001b[0m x \u001b[39m=\u001b[39m \u001b[39mself\u001b[39m\u001b[39m.\u001b[39mlin(x)\n\u001b[1;32m    197\u001b[0m \u001b[39m# propagate_type: (x: Tensor, edge_weight: OptTensor)\u001b[39;00m\n\u001b[0;32m--> 198\u001b[0m out \u001b[39m=\u001b[39m \u001b[39mself\u001b[39;49m\u001b[39m.\u001b[39;49mpropagate(edge_index, x\u001b[39m=\u001b[39;49mx, edge_weight\u001b[39m=\u001b[39;49medge_weight,\n\u001b[1;32m    199\u001b[0m                      size\u001b[39m=\u001b[39;49m\u001b[39mNone\u001b[39;49;00m)\n\u001b[1;32m    201\u001b[0m \u001b[39mif\u001b[39;00m \u001b[39mself\u001b[39m\u001b[39m.\u001b[39mbias \u001b[39mis\u001b[39;00m \u001b[39mnot\u001b[39;00m \u001b[39mNone\u001b[39;00m:\n\u001b[1;32m    202\u001b[0m     out \u001b[39m=\u001b[39m out \u001b[39m+\u001b[39m \u001b[39mself\u001b[39m\u001b[39m.\u001b[39mbias\n",
      "File \u001b[0;32m~/anaconda3/envs/pyg/lib/python3.10/site-packages/torch_geometric/nn/conv/message_passing.py:429\u001b[0m, in \u001b[0;36mMessagePassing.propagate\u001b[0;34m(self, edge_index, size, **kwargs)\u001b[0m\n\u001b[1;32m    426\u001b[0m     \u001b[39mfor\u001b[39;00m arg \u001b[39min\u001b[39;00m decomp_args:\n\u001b[1;32m    427\u001b[0m         kwargs[arg] \u001b[39m=\u001b[39m decomp_kwargs[arg][i]\n\u001b[0;32m--> 429\u001b[0m coll_dict \u001b[39m=\u001b[39m \u001b[39mself\u001b[39;49m\u001b[39m.\u001b[39;49m__collect__(\u001b[39mself\u001b[39;49m\u001b[39m.\u001b[39;49m__user_args__, edge_index,\n\u001b[1;32m    430\u001b[0m                              size, kwargs)\n\u001b[1;32m    432\u001b[0m msg_kwargs \u001b[39m=\u001b[39m \u001b[39mself\u001b[39m\u001b[39m.\u001b[39minspector\u001b[39m.\u001b[39mdistribute(\u001b[39m'\u001b[39m\u001b[39mmessage\u001b[39m\u001b[39m'\u001b[39m, coll_dict)\n\u001b[1;32m    433\u001b[0m \u001b[39mfor\u001b[39;00m hook \u001b[39min\u001b[39;00m \u001b[39mself\u001b[39m\u001b[39m.\u001b[39m_message_forward_pre_hooks\u001b[39m.\u001b[39mvalues():\n",
      "File \u001b[0;32m~/anaconda3/envs/pyg/lib/python3.10/site-packages/torch_geometric/nn/conv/message_passing.py:301\u001b[0m, in \u001b[0;36mMessagePassing.__collect__\u001b[0;34m(self, args, edge_index, size, kwargs)\u001b[0m\n\u001b[1;32m    299\u001b[0m         \u001b[39mif\u001b[39;00m \u001b[39misinstance\u001b[39m(data, Tensor):\n\u001b[1;32m    300\u001b[0m             \u001b[39mself\u001b[39m\u001b[39m.\u001b[39m__set_size__(size, dim, data)\n\u001b[0;32m--> 301\u001b[0m             data \u001b[39m=\u001b[39m \u001b[39mself\u001b[39;49m\u001b[39m.\u001b[39;49m__lift__(data, edge_index, dim)\n\u001b[1;32m    303\u001b[0m         out[arg] \u001b[39m=\u001b[39m data\n\u001b[1;32m    305\u001b[0m \u001b[39mif\u001b[39;00m is_torch_sparse_tensor(edge_index):\n",
      "File \u001b[0;32m~/anaconda3/envs/pyg/lib/python3.10/site-packages/torch_geometric/nn/conv/message_passing.py:239\u001b[0m, in \u001b[0;36mMessagePassing.__lift__\u001b[0;34m(self, src, edge_index, dim)\u001b[0m\n\u001b[1;32m    237\u001b[0m \u001b[39mtry\u001b[39;00m:\n\u001b[1;32m    238\u001b[0m     index \u001b[39m=\u001b[39m edge_index[dim]\n\u001b[0;32m--> 239\u001b[0m     \u001b[39mreturn\u001b[39;00m src\u001b[39m.\u001b[39;49mindex_select(\u001b[39mself\u001b[39;49m\u001b[39m.\u001b[39;49mnode_dim, index)\n\u001b[1;32m    240\u001b[0m \u001b[39mexcept\u001b[39;00m (\u001b[39mIndexError\u001b[39;00m, \u001b[39mRuntimeError\u001b[39;00m) \u001b[39mas\u001b[39;00m e:\n\u001b[1;32m    241\u001b[0m     \u001b[39mif\u001b[39;00m \u001b[39m'\u001b[39m\u001b[39mCUDA\u001b[39m\u001b[39m'\u001b[39m \u001b[39min\u001b[39;00m \u001b[39mstr\u001b[39m(e):\n",
      "\u001b[0;31mKeyboardInterrupt\u001b[0m: "
     ]
    }
   ],
   "source": [
    "# GPU support\n",
    "device = torch.device('cpu') # cuda\n",
    "\n",
    "\n",
    "# Create model and optimizers\n",
    "model = A3TGCN_Temporal(node_features=1, periods=HORIZON).to(device)\n",
    "optimizer = torch.optim.Adam(model.parameters(), lr=0.005)\n",
    "model.train()\n",
    "\n",
    "print(\"Running training...\")\n",
    "for epoch in range(20): \n",
    "    loss = 0\n",
    "    step = 0\n",
    "    for snapshot in iter(dataset):\n",
    "        snapshot = snapshot.to(device)\n",
    "        # Get model predictions\n",
    "        y_hat = model(snapshot.x, snapshot.edge_index)\n",
    "        # Mean squared error\n",
    "        loss = loss + torch.mean((y_hat-snapshot.y)**2) \n",
    "        step += 1\n",
    "\n",
    "\n",
    "    loss = loss / (step + 1)\n",
    "    loss.backward()\n",
    "    optimizer.step()\n",
    "    optimizer.zero_grad()\n",
    "    print(\"Epoch {} train MSE: {:.4f}\".format(epoch, loss.item()))"
   ]
  }
 ],
 "metadata": {
  "kernelspec": {
   "display_name": "Python 3.10.8 ('pyg')",
   "language": "python",
   "name": "python3"
  },
  "language_info": {
   "codemirror_mode": {
    "name": "ipython",
    "version": 3
   },
   "file_extension": ".py",
   "mimetype": "text/x-python",
   "name": "python",
   "nbconvert_exporter": "python",
   "pygments_lexer": "ipython3",
   "version": "3.10.8"
  },
  "orig_nbformat": 4,
  "vscode": {
   "interpreter": {
    "hash": "acdcdacd7899d1d3dae8e3f93ce98eca92110d6b3dc27401af10da601772b4ab"
   }
  }
 },
 "nbformat": 4,
 "nbformat_minor": 2
}
